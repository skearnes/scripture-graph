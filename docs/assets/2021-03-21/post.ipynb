{
 "cells": [
  {
   "cell_type": "code",
   "execution_count": 1,
   "metadata": {},
   "outputs": [
    {
     "name": "stdout",
     "output_type": "stream",
     "text": [
      "Populating the interactive namespace from numpy and matplotlib\n"
     ]
    }
   ],
   "source": [
    "import networkx as nx\n",
    "import numpy as np\n",
    "import pandas as pd\n",
    "from scipy import special\n",
    "from scipy.spatial import distance\n",
    "import seaborn as sns\n",
    "from sklearn import metrics\n",
    "import tqdm\n",
    "\n",
    "from scripture_graph import graph_lib\n",
    "\n",
    "%pylab inline"
   ]
  },
  {
   "cell_type": "code",
   "execution_count": 2,
   "metadata": {},
   "outputs": [
    {
     "name": "stdout",
     "output_type": "stream",
     "text": [
      "48566 183072\n",
      "41995 45985\n",
      "41995 26946\n"
     ]
    }
   ],
   "source": [
    "digraph = nx.read_graphml('../../../scripture_graph.graphml')\n",
    "print(digraph.number_of_nodes(), digraph.number_of_edges())\n",
    "graph_lib.remove_topic_nodes(digraph)\n",
    "print(digraph.number_of_nodes(), digraph.number_of_edges())\n",
    "graph = digraph.to_undirected()\n",
    "print(graph.number_of_nodes(), graph.number_of_edges())"
   ]
  },
  {
   "cell_type": "code",
   "execution_count": 3,
   "metadata": {},
   "outputs": [
    {
     "name": "stdout",
     "output_type": "stream",
     "text": [
      "26946 881727020 0.00305604789110353\n"
     ]
    }
   ],
   "source": [
    "# nx.jaccard_coefficient is too slow; we can roll our own with the adjacency matrix.\n",
    "possible = special.comb(graph.number_of_nodes(), 2, exact=True) - graph.number_of_nodes()\n",
    "print(graph.number_of_edges(), possible, graph.number_of_edges() / possible * 100)"
   ]
  },
  {
   "cell_type": "code",
   "execution_count": 4,
   "metadata": {},
   "outputs": [
    {
     "data": {
      "text/plain": [
       "scipy.sparse.csr.csr_matrix"
      ]
     },
     "execution_count": 4,
     "metadata": {},
     "output_type": "execute_result"
    }
   ],
   "source": [
    "a = nx.adjacency_matrix(graph)\n",
    "type(a)"
   ]
  },
  {
   "cell_type": "code",
   "execution_count": 5,
   "metadata": {},
   "outputs": [
    {
     "name": "stdout",
     "output_type": "stream",
     "text": [
      "1.2832956304321943 [[ 0.  0.  0. ...  2. 11.  3.]]\n",
      "2.7284325637910083 [[ 1.  1.  1. ...  2. 11.  3.]]\n"
     ]
    }
   ],
   "source": [
    "# What is the average number of connections?\n",
    "total = a.sum(axis=1)\n",
    "print(np.mean(total), np.median(total))\n",
    "# now without the singletons\n",
    "print(np.mean(total[total > 0]), np.median(total[total > 0]))"
   ]
  },
  {
   "cell_type": "code",
   "execution_count": 6,
   "metadata": {},
   "outputs": [],
   "source": [
    "# scipy jaccard sets the distance to zero when there are no common neighbors\n",
    "def jaccard(a):\n",
    "    ab = a @ a.T\n",
    "    aa = a.sum(axis=1)\n",
    "    bb = aa.T\n",
    "    return ab / (aa + bb - ab)"
   ]
  },
  {
   "cell_type": "code",
   "execution_count": null,
   "metadata": {},
   "outputs": [],
   "source": [
    "%%time\n",
    "s = jaccard(a)\n",
    "s = np.nan_to_num(s, copy=False)\n",
    "s[np.diag_indices_from(s)] = 0\n",
    "print(s.shape)"
   ]
  },
  {
   "cell_type": "code",
   "execution_count": null,
   "metadata": {},
   "outputs": [],
   "source": [
    "print(nz.shape, (nz > 0).sum())"
   ]
  },
  {
   "cell_type": "code",
   "execution_count": null,
   "metadata": {},
   "outputs": [],
   "source": [
    "%%time\n",
    "nodes = np.asarray(graph.nodes())\n",
    "mask = np.where(s > 0)\n",
    "rows = []\n",
    "for i, j in zip(*mask):\n",
    "    order = sorted([nodes[i], nodes[j]])\n",
    "    a = set([n[1] for n in graph.edges(order[0])])\n",
    "    b = set([n[1] for n in graph.edges(order[1])])\n",
    "    rows.append({\n",
    "        'a': order[0], \n",
    "        'b': order[1], \n",
    "        'jaccard': s[i, j], \n",
    "        'intersection': len(a & b), \n",
    "        'union': len(a | b),\n",
    "    })\n",
    "df = pd.DataFrame(rows)\n",
    "print(df.shape)\n",
    "df = df.drop_duplicates(['a', 'b'])\n",
    "print(df.shape)\n",
    "df.head()"
   ]
  },
  {
   "cell_type": "code",
   "execution_count": null,
   "metadata": {},
   "outputs": [],
   "source": [
    "df.shape[0] / possible * 100"
   ]
  },
  {
   "cell_type": "code",
   "execution_count": null,
   "metadata": {},
   "outputs": [],
   "source": [
    "sns.set_style('whitegrid')\n",
    "fig, ax = subplots()\n",
    "sns.ecdfplot(data=df, x='jaccard', ax=ax)\n",
    "suptitle('Cumulative Jaccard Similarity Counts')\n",
    "ax.set_xlabel('Jaccard Similarity (Excluding Zero)')\n",
    "ax.set_xlim(0, 1)\n",
    "fig.savefig('jaccard-cdf.png', dpi=300, bbox_inches='tight')"
   ]
  },
  {
   "cell_type": "code",
   "execution_count": null,
   "metadata": {},
   "outputs": [],
   "source": [
    "sns.boxplot(data=df, x='intersection', y='jaccard')"
   ]
  },
  {
   "cell_type": "code",
   "execution_count": null,
   "metadata": {},
   "outputs": [],
   "source": [
    "sns.boxplot(data=df, x='intersection', y='union')"
   ]
  },
  {
   "cell_type": "code",
   "execution_count": null,
   "metadata": {},
   "outputs": [],
   "source": [
    "df.sort_values('intersection', ascending=False)"
   ]
  },
  {
   "cell_type": "code",
   "execution_count": null,
   "metadata": {},
   "outputs": [],
   "source": [
    "df.sort_values('union', ascending=False)"
   ]
  },
  {
   "cell_type": "code",
   "execution_count": null,
   "metadata": {},
   "outputs": [],
   "source": [
    "df.sort_values('jaccard', ascending=False)"
   ]
  },
  {
   "cell_type": "code",
   "execution_count": null,
   "metadata": {},
   "outputs": [],
   "source": [
    "df[df.jaccard == 1].sort_values('intersection', ascending=False)"
   ]
  },
  {
   "cell_type": "code",
   "execution_count": null,
   "metadata": {},
   "outputs": [],
   "source": [
    "df[df.jaccard == 1].intersection.value_counts()"
   ]
  },
  {
   "cell_type": "code",
   "execution_count": null,
   "metadata": {},
   "outputs": [],
   "source": [
    "# singletons: no outgoing or incoming edges\n",
    "num_singletons = 0\n",
    "for node in graph.nodes:\n",
    "    if not graph.edges(node):\n",
    "        num_singletons += 1\n",
    "print(num_singletons, graph.number_of_nodes(), num_singletons / graph.number_of_nodes())"
   ]
  },
  {
   "cell_type": "code",
   "execution_count": null,
   "metadata": {},
   "outputs": [],
   "source": [
    "df[df.intersection > 1].sort_values(['intersection', 'jaccard'], ascending=False)"
   ]
  },
  {
   "cell_type": "code",
   "execution_count": null,
   "metadata": {},
   "outputs": [],
   "source": []
  }
 ],
 "metadata": {
  "kernelspec": {
   "display_name": "Python 3",
   "language": "python",
   "name": "python3"
  },
  "language_info": {
   "codemirror_mode": {
    "name": "ipython",
    "version": 3
   },
   "file_extension": ".py",
   "mimetype": "text/x-python",
   "name": "python",
   "nbconvert_exporter": "python",
   "pygments_lexer": "ipython3",
   "version": "3.8.5"
  }
 },
 "nbformat": 4,
 "nbformat_minor": 5
}
