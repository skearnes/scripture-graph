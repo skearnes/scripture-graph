{
 "cells": [
  {
   "cell_type": "code",
   "execution_count": 19,
   "id": "quiet-injection",
   "metadata": {},
   "outputs": [
    {
     "name": "stdout",
     "output_type": "stream",
     "text": [
      "Populating the interactive namespace from numpy and matplotlib\n"
     ]
    }
   ],
   "source": [
    "import networkx as nx\n",
    "import numpy as np\n",
    "import pandas as pd\n",
    "from scipy import special\n",
    "from scipy.spatial import distance\n",
    "import seaborn as sns\n",
    "from sklearn import metrics\n",
    "import tqdm\n",
    "\n",
    "from scripture_graph import graph_lib\n",
    "\n",
    "%pylab inline"
   ]
  },
  {
   "cell_type": "code",
   "execution_count": 2,
   "id": "white-degree",
   "metadata": {},
   "outputs": [
    {
     "name": "stdout",
     "output_type": "stream",
     "text": [
      "48566 183072\n",
      "41995 45985\n",
      "41995 26946\n"
     ]
    }
   ],
   "source": [
    "digraph = nx.read_graphml('../../../scripture_graph.graphml')\n",
    "print(digraph.number_of_nodes(), digraph.number_of_edges())\n",
    "graph_lib.remove_topic_nodes(digraph)\n",
    "print(digraph.number_of_nodes(), digraph.number_of_edges())\n",
    "graph = digraph.to_undirected()\n",
    "print(graph.number_of_nodes(), graph.number_of_edges())"
   ]
  },
  {
   "cell_type": "code",
   "execution_count": 3,
   "id": "organizational-transport",
   "metadata": {},
   "outputs": [
    {
     "name": "stdout",
     "output_type": "stream",
     "text": [
      "26946 881727020 0.00305604789110353\n"
     ]
    }
   ],
   "source": [
    "# nx.jaccard_coefficient is too slow; we can roll our own with the adjacency matrix.\n",
    "possible = special.comb(graph.number_of_nodes(), 2, exact=True) - graph.number_of_nodes()\n",
    "print(graph.number_of_edges(), possible, graph.number_of_edges() / possible * 100)"
   ]
  },
  {
   "cell_type": "code",
   "execution_count": 4,
   "id": "intellectual-gospel",
   "metadata": {},
   "outputs": [
    {
     "data": {
      "text/plain": [
       "scipy.sparse.csr.csr_matrix"
      ]
     },
     "execution_count": 4,
     "metadata": {},
     "output_type": "execute_result"
    }
   ],
   "source": [
    "a = nx.adjacency_matrix(graph)\n",
    "type(a)"
   ]
  },
  {
   "cell_type": "code",
   "execution_count": 5,
   "id": "auburn-witch",
   "metadata": {},
   "outputs": [
    {
     "name": "stdout",
     "output_type": "stream",
     "text": [
      "1.2832956304321943 [[ 0.  0.  0. ...  2. 11. 36.]]\n",
      "2.7284325637910083 [[ 1.  1.  1. ...  2. 11. 36.]]\n"
     ]
    }
   ],
   "source": [
    "# What is the average number of connections?\n",
    "total = a.sum(axis=1)\n",
    "print(np.mean(total), np.median(total))\n",
    "# now without the singletons\n",
    "print(np.mean(total[total > 0]), np.median(total[total > 0]))"
   ]
  },
  {
   "cell_type": "code",
   "execution_count": 6,
   "id": "simple-physiology",
   "metadata": {},
   "outputs": [],
   "source": [
    "# scipy jaccard sets the distance to zero when there are no common neighbors\n",
    "def jaccard(a):\n",
    "    ab = a @ a.T\n",
    "    aa = a.sum(axis=1)\n",
    "    bb = aa.T\n",
    "    return ab / (aa + bb - ab)"
   ]
  },
  {
   "cell_type": "code",
   "execution_count": 7,
   "id": "sublime-crazy",
   "metadata": {},
   "outputs": [
    {
     "name": "stderr",
     "output_type": "stream",
     "text": [
      "/home/kearnes/miniconda3/lib/python3.8/site-packages/scipy/sparse/base.py:595: RuntimeWarning: invalid value encountered in true_divide\n",
      "  return np.true_divide(self.todense(), other)\n"
     ]
    },
    {
     "name": "stdout",
     "output_type": "stream",
     "text": [
      "(41995, 41995)\n",
      "CPU times: user 13.4 s, sys: 6.35 s, total: 19.7 s\n",
      "Wall time: 19.8 s\n"
     ]
    }
   ],
   "source": [
    "%%time\n",
    "s = jaccard(a)\n",
    "s = np.nan_to_num(s, copy=False)\n",
    "s[np.diag_indices_from(s)] = 0\n",
    "print(s.shape)"
   ]
  },
  {
   "cell_type": "code",
   "execution_count": 9,
   "id": "starting-begin",
   "metadata": {},
   "outputs": [
    {
     "name": "stdout",
     "output_type": "stream",
     "text": [
      "(881769015,) 95247\n"
     ]
    }
   ],
   "source": [
    "print(nz.shape, (nz > 0).sum())"
   ]
  },
  {
   "cell_type": "code",
   "execution_count": 44,
   "id": "hindu-testament",
   "metadata": {},
   "outputs": [
    {
     "name": "stdout",
     "output_type": "stream",
     "text": [
      "(190494, 5)\n",
      "(95247, 5)\n",
      "CPU times: user 5.99 s, sys: 126 ms, total: 6.11 s\n",
      "Wall time: 6.11 s\n"
     ]
    },
    {
     "data": {
      "text/html": [
       "<div>\n",
       "<style scoped>\n",
       "    .dataframe tbody tr th:only-of-type {\n",
       "        vertical-align: middle;\n",
       "    }\n",
       "\n",
       "    .dataframe tbody tr th {\n",
       "        vertical-align: top;\n",
       "    }\n",
       "\n",
       "    .dataframe thead th {\n",
       "        text-align: right;\n",
       "    }\n",
       "</style>\n",
       "<table border=\"1\" class=\"dataframe\">\n",
       "  <thead>\n",
       "    <tr style=\"text-align: right;\">\n",
       "      <th></th>\n",
       "      <th>a</th>\n",
       "      <th>b</th>\n",
       "      <th>jaccard</th>\n",
       "      <th>intersection</th>\n",
       "      <th>union</th>\n",
       "    </tr>\n",
       "  </thead>\n",
       "  <tbody>\n",
       "    <tr>\n",
       "      <th>0</th>\n",
       "      <td>1 Chr. 1:3</td>\n",
       "      <td>Moses 7:52</td>\n",
       "      <td>0.333333</td>\n",
       "      <td>1</td>\n",
       "      <td>3</td>\n",
       "    </tr>\n",
       "    <tr>\n",
       "      <th>1</th>\n",
       "      <td>1 Chr. 1:4</td>\n",
       "      <td>1 Chr. 1:8</td>\n",
       "      <td>0.500000</td>\n",
       "      <td>1</td>\n",
       "      <td>2</td>\n",
       "    </tr>\n",
       "    <tr>\n",
       "      <th>2</th>\n",
       "      <td>1 Chr. 1:4</td>\n",
       "      <td>Gen. 5:32</td>\n",
       "      <td>0.166667</td>\n",
       "      <td>1</td>\n",
       "      <td>6</td>\n",
       "    </tr>\n",
       "    <tr>\n",
       "      <th>3</th>\n",
       "      <td>1 Chr. 1:4</td>\n",
       "      <td>Gen. 8:16</td>\n",
       "      <td>0.333333</td>\n",
       "      <td>1</td>\n",
       "      <td>3</td>\n",
       "    </tr>\n",
       "    <tr>\n",
       "      <th>4</th>\n",
       "      <td>1 Chr. 1:4</td>\n",
       "      <td>Gen. 9:18</td>\n",
       "      <td>0.333333</td>\n",
       "      <td>1</td>\n",
       "      <td>3</td>\n",
       "    </tr>\n",
       "  </tbody>\n",
       "</table>\n",
       "</div>"
      ],
      "text/plain": [
       "            a           b   jaccard  intersection  union\n",
       "0  1 Chr. 1:3  Moses 7:52  0.333333             1      3\n",
       "1  1 Chr. 1:4  1 Chr. 1:8  0.500000             1      2\n",
       "2  1 Chr. 1:4   Gen. 5:32  0.166667             1      6\n",
       "3  1 Chr. 1:4   Gen. 8:16  0.333333             1      3\n",
       "4  1 Chr. 1:4   Gen. 9:18  0.333333             1      3"
      ]
     },
     "execution_count": 44,
     "metadata": {},
     "output_type": "execute_result"
    }
   ],
   "source": [
    "%%time\n",
    "nodes = np.asarray(graph.nodes())\n",
    "mask = np.where(s > 0)\n",
    "rows = []\n",
    "for i, j in zip(*mask):\n",
    "    order = sorted([nodes[i], nodes[j]])\n",
    "    a = set([n[1] for n in graph.edges(order[0])])\n",
    "    b = set([n[1] for n in graph.edges(order[1])])\n",
    "    rows.append({\n",
    "        'a': order[0], \n",
    "        'b': order[1], \n",
    "        'jaccard': s[i, j], \n",
    "        'intersection': len(a & b), \n",
    "        'union': len(a | b),\n",
    "    })\n",
    "df = pd.DataFrame(rows)\n",
    "print(df.shape)\n",
    "df = df.drop_duplicates(['a', 'b'])\n",
    "print(df.shape)\n",
    "df.head()"
   ]
  },
  {
   "cell_type": "code",
   "execution_count": 34,
   "id": "australian-northeast",
   "metadata": {},
   "outputs": [
    {
     "data": {
      "text/plain": [
       "0.010802322923028943"
      ]
     },
     "execution_count": 34,
     "metadata": {},
     "output_type": "execute_result"
    }
   ],
   "source": [
    "df.shape[0] / possible * 100"
   ]
  },
  {
   "cell_type": "code",
   "execution_count": 37,
   "id": "silent-bryan",
   "metadata": {},
   "outputs": [
    {
     "data": {
      "image/png": "[encoded data removed]",
      "text/plain": [
       "<Figure size 432x288 with 1 Axes>"
      ]
     },
     "metadata": {},
     "output_type": "display_data"
    }
   ],
   "source": [
    "sns.set_style('whitegrid')\n",
    "fig, ax = subplots()\n",
    "sns.ecdfplot(data=df, x='jaccard', ax=ax)\n",
    "suptitle('Cumulative Jaccard Similarity Counts')\n",
    "ax.set_xlabel('Jaccard Similarity (Excluding Zero)')\n",
    "ax.set_xlim(0, 1)\n",
    "fig.savefig('jaccard-cdf.png', dpi=300, bbox_inches='tight')"
   ]
  },
  {
   "cell_type": "code",
   "execution_count": 53,
   "id": "crucial-reproduction",
   "metadata": {},
   "outputs": [
    {
     "data": {
      "text/plain": [
       "<AxesSubplot:xlabel='intersection', ylabel='jaccard'>"
      ]
     },
     "execution_count": 53,
     "metadata": {},
     "output_type": "execute_result"
    },
    {
     "data": {
      "image/png": "[encoded data removed]",
      "text/plain": [
       "<Figure size 432x288 with 1 Axes>"
      ]
     },
     "metadata": {},
     "output_type": "display_data"
    }
   ],
   "source": [
    "sns.boxplot(data=df, x='intersection', y='jaccard')"
   ]
  },
  {
   "cell_type": "code",
   "execution_count": 1,
   "id": "complex-sacrifice",
   "metadata": {},
   "outputs": [
    {
     "ename": "NameError",
     "evalue": "name 'sns' is not defined",
     "output_type": "error",
     "traceback": [
      "\u001b[0;31m---------------------------------------------------------------------------\u001b[0m",
      "\u001b[0;31mNameError\u001b[0m                                 Traceback (most recent call last)",
      "\u001b[0;32m<ipython-input-1-0394df1be73d>\u001b[0m in \u001b[0;36m<module>\u001b[0;34m\u001b[0m\n\u001b[0;32m----> 1\u001b[0;31m \u001b[0msns\u001b[0m\u001b[0;34m.\u001b[0m\u001b[0mboxplot\u001b[0m\u001b[0;34m(\u001b[0m\u001b[0mdata\u001b[0m\u001b[0;34m=\u001b[0m\u001b[0mdf\u001b[0m\u001b[0;34m,\u001b[0m \u001b[0mx\u001b[0m\u001b[0;34m=\u001b[0m\u001b[0;34m'intersection'\u001b[0m\u001b[0;34m,\u001b[0m \u001b[0my\u001b[0m\u001b[0;34m=\u001b[0m\u001b[0;34m'union'\u001b[0m\u001b[0;34m)\u001b[0m\u001b[0;34m\u001b[0m\u001b[0;34m\u001b[0m\u001b[0m\n\u001b[0m",
      "\u001b[0;31mNameError\u001b[0m: name 'sns' is not defined"
     ]
    }
   ],
   "source": [
    "sns.boxplot(data=df, x='intersection', y='union')"
   ]
  },
  {
   "cell_type": "code",
   "execution_count": 57,
   "id": "composite-terrain",
   "metadata": {},
   "outputs": [
    {
     "data": {
      "text/html": [
       "<div>\n",
       "<style scoped>\n",
       "    .dataframe tbody tr th:only-of-type {\n",
       "        vertical-align: middle;\n",
       "    }\n",
       "\n",
       "    .dataframe tbody tr th {\n",
       "        vertical-align: top;\n",
       "    }\n",
       "\n",
       "    .dataframe thead th {\n",
       "        text-align: right;\n",
       "    }\n",
       "</style>\n",
       "<table border=\"1\" class=\"dataframe\">\n",
       "  <thead>\n",
       "    <tr style=\"text-align: right;\">\n",
       "      <th></th>\n",
       "      <th>a</th>\n",
       "      <th>b</th>\n",
       "      <th>jaccard</th>\n",
       "      <th>intersection</th>\n",
       "      <th>union</th>\n",
       "    </tr>\n",
       "  </thead>\n",
       "  <tbody>\n",
       "    <tr>\n",
       "      <th>136840</th>\n",
       "      <td>D&amp;C 18:26</td>\n",
       "      <td>D&amp;C 90:9</td>\n",
       "      <td>0.666667</td>\n",
       "      <td>8</td>\n",
       "      <td>12</td>\n",
       "    </tr>\n",
       "    <tr>\n",
       "      <th>124485</th>\n",
       "      <td>D&amp;C 101:7</td>\n",
       "      <td>Mosiah 21:15</td>\n",
       "      <td>0.320000</td>\n",
       "      <td>8</td>\n",
       "      <td>25</td>\n",
       "    </tr>\n",
       "    <tr>\n",
       "      <th>156269</th>\n",
       "      <td>D&amp;C 8:3</td>\n",
       "      <td>Mosiah 7:19</td>\n",
       "      <td>0.259259</td>\n",
       "      <td>7</td>\n",
       "      <td>27</td>\n",
       "    </tr>\n",
       "    <tr>\n",
       "      <th>104998</th>\n",
       "      <td>3 Ne. 25:1</td>\n",
       "      <td>D&amp;C 29:9</td>\n",
       "      <td>0.269231</td>\n",
       "      <td>7</td>\n",
       "      <td>26</td>\n",
       "    </tr>\n",
       "    <tr>\n",
       "      <th>126913</th>\n",
       "      <td>D&amp;C 107:33</td>\n",
       "      <td>D&amp;C 19:27</td>\n",
       "      <td>0.333333</td>\n",
       "      <td>7</td>\n",
       "      <td>21</td>\n",
       "    </tr>\n",
       "    <tr>\n",
       "      <th>...</th>\n",
       "      <td>...</td>\n",
       "      <td>...</td>\n",
       "      <td>...</td>\n",
       "      <td>...</td>\n",
       "      <td>...</td>\n",
       "    </tr>\n",
       "    <tr>\n",
       "      <th>39270</th>\n",
       "      <td>Alma 41:11</td>\n",
       "      <td>Isa. 26:11</td>\n",
       "      <td>0.142857</td>\n",
       "      <td>1</td>\n",
       "      <td>7</td>\n",
       "    </tr>\n",
       "    <tr>\n",
       "      <th>39269</th>\n",
       "      <td>Alma 11:39</td>\n",
       "      <td>Isa. 26:11</td>\n",
       "      <td>0.076923</td>\n",
       "      <td>1</td>\n",
       "      <td>13</td>\n",
       "    </tr>\n",
       "    <tr>\n",
       "      <th>39268</th>\n",
       "      <td>2 Ne. 26:12</td>\n",
       "      <td>Isa. 26:11</td>\n",
       "      <td>0.066667</td>\n",
       "      <td>1</td>\n",
       "      <td>15</td>\n",
       "    </tr>\n",
       "    <tr>\n",
       "      <th>39267</th>\n",
       "      <td>1 Ne. 19:10</td>\n",
       "      <td>Isa. 26:11</td>\n",
       "      <td>0.027778</td>\n",
       "      <td>1</td>\n",
       "      <td>36</td>\n",
       "    </tr>\n",
       "    <tr>\n",
       "      <th>190336</th>\n",
       "      <td>W of M 1:10</td>\n",
       "      <td>W of M 1:18</td>\n",
       "      <td>0.111111</td>\n",
       "      <td>1</td>\n",
       "      <td>9</td>\n",
       "    </tr>\n",
       "  </tbody>\n",
       "</table>\n",
       "<p>95247 rows × 5 columns</p>\n",
       "</div>"
      ],
      "text/plain": [
       "                  a             b   jaccard  intersection  union\n",
       "136840    D&C 18:26      D&C 90:9  0.666667             8     12\n",
       "124485    D&C 101:7  Mosiah 21:15  0.320000             8     25\n",
       "156269      D&C 8:3   Mosiah 7:19  0.259259             7     27\n",
       "104998   3 Ne. 25:1      D&C 29:9  0.269231             7     26\n",
       "126913   D&C 107:33     D&C 19:27  0.333333             7     21\n",
       "...             ...           ...       ...           ...    ...\n",
       "39270    Alma 41:11    Isa. 26:11  0.142857             1      7\n",
       "39269    Alma 11:39    Isa. 26:11  0.076923             1     13\n",
       "39268   2 Ne. 26:12    Isa. 26:11  0.066667             1     15\n",
       "39267   1 Ne. 19:10    Isa. 26:11  0.027778             1     36\n",
       "190336  W of M 1:10   W of M 1:18  0.111111             1      9\n",
       "\n",
       "[95247 rows x 5 columns]"
      ]
     },
     "execution_count": 57,
     "metadata": {},
     "output_type": "execute_result"
    }
   ],
   "source": [
    "df.sort_values('intersection', ascending=False)"
   ]
  },
  {
   "cell_type": "code",
   "execution_count": 56,
   "id": "iraqi-stretch",
   "metadata": {},
   "outputs": [
    {
     "data": {
      "text/html": [
       "<div>\n",
       "<style scoped>\n",
       "    .dataframe tbody tr th:only-of-type {\n",
       "        vertical-align: middle;\n",
       "    }\n",
       "\n",
       "    .dataframe tbody tr th {\n",
       "        vertical-align: top;\n",
       "    }\n",
       "\n",
       "    .dataframe thead th {\n",
       "        text-align: right;\n",
       "    }\n",
       "</style>\n",
       "<table border=\"1\" class=\"dataframe\">\n",
       "  <thead>\n",
       "    <tr style=\"text-align: right;\">\n",
       "      <th></th>\n",
       "      <th>a</th>\n",
       "      <th>b</th>\n",
       "      <th>jaccard</th>\n",
       "      <th>intersection</th>\n",
       "      <th>union</th>\n",
       "    </tr>\n",
       "  </thead>\n",
       "  <tbody>\n",
       "    <tr>\n",
       "      <th>86512</th>\n",
       "      <td>1 Ne. 19:10</td>\n",
       "      <td>2 Ne. 25:20</td>\n",
       "      <td>0.033898</td>\n",
       "      <td>2</td>\n",
       "      <td>59</td>\n",
       "    </tr>\n",
       "    <tr>\n",
       "      <th>81230</th>\n",
       "      <td>1 Ne. 19:10</td>\n",
       "      <td>1 Ne. 1:4</td>\n",
       "      <td>0.017544</td>\n",
       "      <td>1</td>\n",
       "      <td>57</td>\n",
       "    </tr>\n",
       "    <tr>\n",
       "      <th>86606</th>\n",
       "      <td>1 Ne. 19:10</td>\n",
       "      <td>Mosiah 7:19</td>\n",
       "      <td>0.053571</td>\n",
       "      <td>3</td>\n",
       "      <td>56</td>\n",
       "    </tr>\n",
       "    <tr>\n",
       "      <th>86517</th>\n",
       "      <td>1 Ne. 19:10</td>\n",
       "      <td>2 Ne. 31:21</td>\n",
       "      <td>0.018868</td>\n",
       "      <td>1</td>\n",
       "      <td>53</td>\n",
       "    </tr>\n",
       "    <tr>\n",
       "      <th>86601</th>\n",
       "      <td>1 Ne. 19:10</td>\n",
       "      <td>Mosiah 3:5</td>\n",
       "      <td>0.038462</td>\n",
       "      <td>2</td>\n",
       "      <td>52</td>\n",
       "    </tr>\n",
       "    <tr>\n",
       "      <th>...</th>\n",
       "      <td>...</td>\n",
       "      <td>...</td>\n",
       "      <td>...</td>\n",
       "      <td>...</td>\n",
       "      <td>...</td>\n",
       "    </tr>\n",
       "    <tr>\n",
       "      <th>93006</th>\n",
       "      <td>2 Ne. 21:6</td>\n",
       "      <td>2 Ne. 30:12</td>\n",
       "      <td>1.000000</td>\n",
       "      <td>1</td>\n",
       "      <td>1</td>\n",
       "    </tr>\n",
       "    <tr>\n",
       "      <th>166668</th>\n",
       "      <td>Hel. 1:30</td>\n",
       "      <td>Hel. 4:8</td>\n",
       "      <td>1.000000</td>\n",
       "      <td>1</td>\n",
       "      <td>1</td>\n",
       "    </tr>\n",
       "    <tr>\n",
       "      <th>166669</th>\n",
       "      <td>Hel. 11:24</td>\n",
       "      <td>Hel. 1:32</td>\n",
       "      <td>1.000000</td>\n",
       "      <td>1</td>\n",
       "      <td>1</td>\n",
       "    </tr>\n",
       "    <tr>\n",
       "      <th>143866</th>\n",
       "      <td>D&amp;C 41:3</td>\n",
       "      <td>D&amp;C 58:23</td>\n",
       "      <td>1.000000</td>\n",
       "      <td>1</td>\n",
       "      <td>1</td>\n",
       "    </tr>\n",
       "    <tr>\n",
       "      <th>22013</th>\n",
       "      <td>Ex. 18:19</td>\n",
       "      <td>Ex. 7:1</td>\n",
       "      <td>1.000000</td>\n",
       "      <td>1</td>\n",
       "      <td>1</td>\n",
       "    </tr>\n",
       "  </tbody>\n",
       "</table>\n",
       "<p>95247 rows × 5 columns</p>\n",
       "</div>"
      ],
      "text/plain": [
       "                  a            b   jaccard  intersection  union\n",
       "86512   1 Ne. 19:10  2 Ne. 25:20  0.033898             2     59\n",
       "81230   1 Ne. 19:10    1 Ne. 1:4  0.017544             1     57\n",
       "86606   1 Ne. 19:10  Mosiah 7:19  0.053571             3     56\n",
       "86517   1 Ne. 19:10  2 Ne. 31:21  0.018868             1     53\n",
       "86601   1 Ne. 19:10   Mosiah 3:5  0.038462             2     52\n",
       "...             ...          ...       ...           ...    ...\n",
       "93006    2 Ne. 21:6  2 Ne. 30:12  1.000000             1      1\n",
       "166668    Hel. 1:30     Hel. 4:8  1.000000             1      1\n",
       "166669   Hel. 11:24    Hel. 1:32  1.000000             1      1\n",
       "143866     D&C 41:3    D&C 58:23  1.000000             1      1\n",
       "22013     Ex. 18:19      Ex. 7:1  1.000000             1      1\n",
       "\n",
       "[95247 rows x 5 columns]"
      ]
     },
     "execution_count": 56,
     "metadata": {},
     "output_type": "execute_result"
    }
   ],
   "source": [
    "df.sort_values('union', ascending=False)"
   ]
  },
  {
   "cell_type": "code",
   "execution_count": 45,
   "id": "republican-tokyo",
   "metadata": {},
   "outputs": [
    {
     "data": {
      "text/html": [
       "<div>\n",
       "<style scoped>\n",
       "    .dataframe tbody tr th:only-of-type {\n",
       "        vertical-align: middle;\n",
       "    }\n",
       "\n",
       "    .dataframe tbody tr th {\n",
       "        vertical-align: top;\n",
       "    }\n",
       "\n",
       "    .dataframe thead th {\n",
       "        text-align: right;\n",
       "    }\n",
       "</style>\n",
       "<table border=\"1\" class=\"dataframe\">\n",
       "  <thead>\n",
       "    <tr style=\"text-align: right;\">\n",
       "      <th></th>\n",
       "      <th>a</th>\n",
       "      <th>b</th>\n",
       "      <th>jaccard</th>\n",
       "      <th>intersection</th>\n",
       "      <th>union</th>\n",
       "    </tr>\n",
       "  </thead>\n",
       "  <tbody>\n",
       "    <tr>\n",
       "      <th>105942</th>\n",
       "      <td>3 Ne. 28:15</td>\n",
       "      <td>Ether 3:8</td>\n",
       "      <td>1.000000</td>\n",
       "      <td>1</td>\n",
       "      <td>1</td>\n",
       "    </tr>\n",
       "    <tr>\n",
       "      <th>19586</th>\n",
       "      <td>3 Ne. 28:35</td>\n",
       "      <td>Deut. 8:11</td>\n",
       "      <td>1.000000</td>\n",
       "      <td>1</td>\n",
       "      <td>1</td>\n",
       "    </tr>\n",
       "    <tr>\n",
       "      <th>5224</th>\n",
       "      <td>1 Sam. 12:24</td>\n",
       "      <td>Neh. 12:43</td>\n",
       "      <td>1.000000</td>\n",
       "      <td>1</td>\n",
       "      <td>1</td>\n",
       "    </tr>\n",
       "    <tr>\n",
       "      <th>43424</th>\n",
       "      <td>2 Ne. 18:17</td>\n",
       "      <td>Isa. 64:7</td>\n",
       "      <td>1.000000</td>\n",
       "      <td>1</td>\n",
       "      <td>1</td>\n",
       "    </tr>\n",
       "    <tr>\n",
       "      <th>43519</th>\n",
       "      <td>Isa. 65:10</td>\n",
       "      <td>Josh. 7:26</td>\n",
       "      <td>1.000000</td>\n",
       "      <td>1</td>\n",
       "      <td>1</td>\n",
       "    </tr>\n",
       "    <tr>\n",
       "      <th>...</th>\n",
       "      <td>...</td>\n",
       "      <td>...</td>\n",
       "      <td>...</td>\n",
       "      <td>...</td>\n",
       "      <td>...</td>\n",
       "    </tr>\n",
       "    <tr>\n",
       "      <th>81914</th>\n",
       "      <td>1 Ne. 10:12</td>\n",
       "      <td>1 Ne. 19:10</td>\n",
       "      <td>0.020000</td>\n",
       "      <td>1</td>\n",
       "      <td>50</td>\n",
       "    </tr>\n",
       "    <tr>\n",
       "      <th>136483</th>\n",
       "      <td>D&amp;C 17:1</td>\n",
       "      <td>Mosiah 7:19</td>\n",
       "      <td>0.020000</td>\n",
       "      <td>1</td>\n",
       "      <td>50</td>\n",
       "    </tr>\n",
       "    <tr>\n",
       "      <th>86555</th>\n",
       "      <td>1 Ne. 19:10</td>\n",
       "      <td>D&amp;C 19:27</td>\n",
       "      <td>0.019608</td>\n",
       "      <td>1</td>\n",
       "      <td>51</td>\n",
       "    </tr>\n",
       "    <tr>\n",
       "      <th>86517</th>\n",
       "      <td>1 Ne. 19:10</td>\n",
       "      <td>2 Ne. 31:21</td>\n",
       "      <td>0.018868</td>\n",
       "      <td>1</td>\n",
       "      <td>53</td>\n",
       "    </tr>\n",
       "    <tr>\n",
       "      <th>81230</th>\n",
       "      <td>1 Ne. 19:10</td>\n",
       "      <td>1 Ne. 1:4</td>\n",
       "      <td>0.017544</td>\n",
       "      <td>1</td>\n",
       "      <td>57</td>\n",
       "    </tr>\n",
       "  </tbody>\n",
       "</table>\n",
       "<p>95247 rows × 5 columns</p>\n",
       "</div>"
      ],
      "text/plain": [
       "                   a            b   jaccard  intersection  union\n",
       "105942   3 Ne. 28:15    Ether 3:8  1.000000             1      1\n",
       "19586    3 Ne. 28:35   Deut. 8:11  1.000000             1      1\n",
       "5224    1 Sam. 12:24   Neh. 12:43  1.000000             1      1\n",
       "43424    2 Ne. 18:17    Isa. 64:7  1.000000             1      1\n",
       "43519     Isa. 65:10   Josh. 7:26  1.000000             1      1\n",
       "...              ...          ...       ...           ...    ...\n",
       "81914    1 Ne. 10:12  1 Ne. 19:10  0.020000             1     50\n",
       "136483      D&C 17:1  Mosiah 7:19  0.020000             1     50\n",
       "86555    1 Ne. 19:10    D&C 19:27  0.019608             1     51\n",
       "86517    1 Ne. 19:10  2 Ne. 31:21  0.018868             1     53\n",
       "81230    1 Ne. 19:10    1 Ne. 1:4  0.017544             1     57\n",
       "\n",
       "[95247 rows x 5 columns]"
      ]
     },
     "execution_count": 45,
     "metadata": {},
     "output_type": "execute_result"
    }
   ],
   "source": [
    "df.sort_values('jaccard', ascending=False)"
   ]
  },
  {
   "cell_type": "code",
   "execution_count": 47,
   "id": "digital-warehouse",
   "metadata": {},
   "outputs": [
    {
     "data": {
      "text/html": [
       "<div>\n",
       "<style scoped>\n",
       "    .dataframe tbody tr th:only-of-type {\n",
       "        vertical-align: middle;\n",
       "    }\n",
       "\n",
       "    .dataframe tbody tr th {\n",
       "        vertical-align: top;\n",
       "    }\n",
       "\n",
       "    .dataframe thead th {\n",
       "        text-align: right;\n",
       "    }\n",
       "</style>\n",
       "<table border=\"1\" class=\"dataframe\">\n",
       "  <thead>\n",
       "    <tr style=\"text-align: right;\">\n",
       "      <th></th>\n",
       "      <th>a</th>\n",
       "      <th>b</th>\n",
       "      <th>jaccard</th>\n",
       "      <th>intersection</th>\n",
       "      <th>union</th>\n",
       "    </tr>\n",
       "  </thead>\n",
       "  <tbody>\n",
       "    <tr>\n",
       "      <th>19103</th>\n",
       "      <td>Deut. 5:17</td>\n",
       "      <td>Matt. 5:21</td>\n",
       "      <td>1.0</td>\n",
       "      <td>3</td>\n",
       "      <td>3</td>\n",
       "    </tr>\n",
       "    <tr>\n",
       "      <th>9028</th>\n",
       "      <td>2 Kgs. 14:24</td>\n",
       "      <td>2 Kgs. 15:9</td>\n",
       "      <td>1.0</td>\n",
       "      <td>3</td>\n",
       "      <td>3</td>\n",
       "    </tr>\n",
       "    <tr>\n",
       "      <th>43815</th>\n",
       "      <td>2 Ne. 18:6</td>\n",
       "      <td>Isa. 8:6</td>\n",
       "      <td>1.0</td>\n",
       "      <td>3</td>\n",
       "      <td>3</td>\n",
       "    </tr>\n",
       "    <tr>\n",
       "      <th>39001</th>\n",
       "      <td>D&amp;C 88:105</td>\n",
       "      <td>Isa. 21:9</td>\n",
       "      <td>1.0</td>\n",
       "      <td>2</td>\n",
       "      <td>2</td>\n",
       "    </tr>\n",
       "    <tr>\n",
       "      <th>31356</th>\n",
       "      <td>1 Ne. 20:10</td>\n",
       "      <td>Gen. 15:13</td>\n",
       "      <td>1.0</td>\n",
       "      <td>2</td>\n",
       "      <td>2</td>\n",
       "    </tr>\n",
       "    <tr>\n",
       "      <th>...</th>\n",
       "      <td>...</td>\n",
       "      <td>...</td>\n",
       "      <td>...</td>\n",
       "      <td>...</td>\n",
       "      <td>...</td>\n",
       "    </tr>\n",
       "    <tr>\n",
       "      <th>20796</th>\n",
       "      <td>Esth. 5:9</td>\n",
       "      <td>Prov. 27:3</td>\n",
       "      <td>1.0</td>\n",
       "      <td>1</td>\n",
       "      <td>1</td>\n",
       "    </tr>\n",
       "    <tr>\n",
       "      <th>20795</th>\n",
       "      <td>Esth. 5:6</td>\n",
       "      <td>Esth. 9:12</td>\n",
       "      <td>1.0</td>\n",
       "      <td>1</td>\n",
       "      <td>1</td>\n",
       "    </tr>\n",
       "    <tr>\n",
       "      <th>20794</th>\n",
       "      <td>Esth. 5:2</td>\n",
       "      <td>Esth. 8:4</td>\n",
       "      <td>1.0</td>\n",
       "      <td>1</td>\n",
       "      <td>1</td>\n",
       "    </tr>\n",
       "    <tr>\n",
       "      <th>20777</th>\n",
       "      <td>Alma 47:22</td>\n",
       "      <td>Esth. 3:2</td>\n",
       "      <td>1.0</td>\n",
       "      <td>1</td>\n",
       "      <td>1</td>\n",
       "    </tr>\n",
       "    <tr>\n",
       "      <th>188570</th>\n",
       "      <td>Mosiah 5:4</td>\n",
       "      <td>Mosiah 7:23</td>\n",
       "      <td>1.0</td>\n",
       "      <td>1</td>\n",
       "      <td>1</td>\n",
       "    </tr>\n",
       "  </tbody>\n",
       "</table>\n",
       "<p>1723 rows × 5 columns</p>\n",
       "</div>"
      ],
      "text/plain": [
       "                   a            b  jaccard  intersection  union\n",
       "19103     Deut. 5:17   Matt. 5:21      1.0             3      3\n",
       "9028    2 Kgs. 14:24  2 Kgs. 15:9      1.0             3      3\n",
       "43815     2 Ne. 18:6     Isa. 8:6      1.0             3      3\n",
       "39001     D&C 88:105    Isa. 21:9      1.0             2      2\n",
       "31356    1 Ne. 20:10   Gen. 15:13      1.0             2      2\n",
       "...              ...          ...      ...           ...    ...\n",
       "20796      Esth. 5:9   Prov. 27:3      1.0             1      1\n",
       "20795      Esth. 5:6   Esth. 9:12      1.0             1      1\n",
       "20794      Esth. 5:2    Esth. 8:4      1.0             1      1\n",
       "20777     Alma 47:22    Esth. 3:2      1.0             1      1\n",
       "188570    Mosiah 5:4  Mosiah 7:23      1.0             1      1\n",
       "\n",
       "[1723 rows x 5 columns]"
      ]
     },
     "execution_count": 47,
     "metadata": {},
     "output_type": "execute_result"
    }
   ],
   "source": [
    "df[df.jaccard == 1].sort_values('intersection', ascending=False)"
   ]
  },
  {
   "cell_type": "code",
   "execution_count": 51,
   "id": "polish-panama",
   "metadata": {},
   "outputs": [
    {
     "data": {
      "text/plain": [
       "1    1689\n",
       "2      31\n",
       "3       3\n",
       "Name: intersection, dtype: int64"
      ]
     },
     "execution_count": 51,
     "metadata": {},
     "output_type": "execute_result"
    }
   ],
   "source": [
    "df[df.jaccard == 1].intersection.value_counts()"
   ]
  },
  {
   "cell_type": "code",
   "execution_count": 33,
   "id": "ahead-dollar",
   "metadata": {},
   "outputs": [
    {
     "name": "stdout",
     "output_type": "stream",
     "text": [
      "22243 41995 0.5296582926538874\n"
     ]
    }
   ],
   "source": [
    "# singletons: no outgoing or incoming edges\n",
    "num_singletons = 0\n",
    "for node in graph.nodes:\n",
    "    if not graph.edges(node):\n",
    "        num_singletons += 1\n",
    "print(num_singletons, graph.number_of_nodes(), num_singletons / graph.number_of_nodes())"
   ]
  },
  {
   "cell_type": "code",
   "execution_count": null,
   "id": "julian-brief",
   "metadata": {},
   "outputs": [],
   "source": []
  }
 ],
 "metadata": {
  "kernelspec": {
   "display_name": "Python 3",
   "language": "python",
   "name": "python3"
  },
  "language_info": {
   "codemirror_mode": {
    "name": "ipython",
    "version": 3
   },
   "file_extension": ".py",
   "mimetype": "text/x-python",
   "name": "python",
   "nbconvert_exporter": "python",
   "pygments_lexer": "ipython3",
   "version": "3.8.8"
  }
 },
 "nbformat": 4,
 "nbformat_minor": 5
}
