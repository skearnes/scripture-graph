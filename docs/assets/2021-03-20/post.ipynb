{
 "cells": [
  {
   "cell_type": "code",
   "execution_count": 1,
   "id": "cellular-maintenance",
   "metadata": {},
   "outputs": [],
   "source": [
    "import networkx as nx\n",
    "from scipy import special\n",
    "from sklearn import metrics\n",
    "\n",
    "from scripture_graph import graph_lib"
   ]
  },
  {
   "cell_type": "code",
   "execution_count": 2,
   "id": "theoretical-storage",
   "metadata": {},
   "outputs": [
    {
     "name": "stdout",
     "output_type": "stream",
     "text": [
      "48566 183072\n",
      "41995 45985\n",
      "41995 26946\n"
     ]
    }
   ],
   "source": [
    "digraph = nx.read_graphml('../../../scripture_graph.graphml')\n",
    "print(digraph.number_of_nodes(), digraph.number_of_edges())\n",
    "graph_lib.remove_topic_nodes(digraph)\n",
    "print(digraph.number_of_nodes(), digraph.number_of_edges())\n",
    "graph = digraph.to_undirected()\n",
    "print(graph.number_of_nodes(), graph.number_of_edges())"
   ]
  },
  {
   "cell_type": "code",
   "execution_count": 3,
   "id": "close-mandate",
   "metadata": {},
   "outputs": [
    {
     "name": "stdout",
     "output_type": "stream",
     "text": [
      "26946 881727020 0.00305604789110353\n"
     ]
    }
   ],
   "source": [
    "# nx.jaccard_coefficient is too slow; we can roll our own with the adjacency matrix.\n",
    "possible = special.comb(graph.number_of_nodes(), 2, exact=True) - graph.number_of_nodes()\n",
    "print(graph.number_of_edges(), possible, graph.number_of_edges() / possible * 100)"
   ]
  },
  {
   "cell_type": "code",
   "execution_count": 4,
   "id": "prostate-plymouth",
   "metadata": {},
   "outputs": [
    {
     "name": "stdout",
     "output_type": "stream",
     "text": [
      "(41995, 41995)\n"
     ]
    }
   ],
   "source": [
    "a = nx.to_numpy_array(graph, dtype=bool)\n",
    "print(a.shape)"
   ]
  },
  {
   "cell_type": "code",
   "execution_count": null,
   "id": "alpine-violin",
   "metadata": {},
   "outputs": [],
   "source": [
    "# What is the average number of connections?\n",
    "a.mean(a.sum(axis=1))"
   ]
  },
  {
   "cell_type": "code",
   "execution_count": null,
   "id": "ecological-running",
   "metadata": {},
   "outputs": [],
   "source": [
    "%%time\n",
    "d = metrics.pairwise_distances(a, metric='jaccard', n_jobs=-1)"
   ]
  },
  {
   "cell_type": "code",
   "execution_count": null,
   "id": "listed-county",
   "metadata": {},
   "outputs": [],
   "source": [
    "import numpy as np\n",
    "np.savez_compressed('distance', distance=d)"
   ]
  },
  {
   "cell_type": "code",
   "execution_count": null,
   "id": "worse-writer",
   "metadata": {},
   "outputs": [],
   "source": []
  }
 ],
 "metadata": {
  "kernelspec": {
   "display_name": "Python 3",
   "language": "python",
   "name": "python3"
  },
  "language_info": {
   "codemirror_mode": {
    "name": "ipython",
    "version": 3
   },
   "file_extension": ".py",
   "mimetype": "text/x-python",
   "name": "python",
   "nbconvert_exporter": "python",
   "pygments_lexer": "ipython3",
   "version": "3.8.8"
  }
 },
 "nbformat": 4,
 "nbformat_minor": 5
}
