{
 "cells": [
  {
   "cell_type": "code",
   "execution_count": 1,
   "id": "quiet-injection",
   "metadata": {},
   "outputs": [
    {
     "name": "stdout",
     "output_type": "stream",
     "text": [
      "Populating the interactive namespace from numpy and matplotlib\n"
     ]
    }
   ],
   "source": [
    "import networkx as nx\n",
    "import numpy as np\n",
    "from scipy import special\n",
    "from scipy.spatial import distance\n",
    "import seaborn as sns\n",
    "from sklearn import metrics\n",
    "import tqdm\n",
    "\n",
    "from scripture_graph import graph_lib\n",
    "\n",
    "%pylab inline"
   ]
  },
  {
   "cell_type": "code",
   "execution_count": 2,
   "id": "white-degree",
   "metadata": {},
   "outputs": [
    {
     "name": "stdout",
     "output_type": "stream",
     "text": [
      "48566 183072\n",
      "41995 45985\n",
      "41995 26946\n"
     ]
    }
   ],
   "source": [
    "digraph = nx.read_graphml('../../../scripture_graph.graphml')\n",
    "print(digraph.number_of_nodes(), digraph.number_of_edges())\n",
    "graph_lib.remove_topic_nodes(digraph)\n",
    "print(digraph.number_of_nodes(), digraph.number_of_edges())\n",
    "graph = digraph.to_undirected()\n",
    "print(graph.number_of_nodes(), graph.number_of_edges())"
   ]
  },
  {
   "cell_type": "code",
   "execution_count": 3,
   "id": "organizational-transport",
   "metadata": {},
   "outputs": [
    {
     "name": "stdout",
     "output_type": "stream",
     "text": [
      "26946 881727020 0.00305604789110353\n"
     ]
    }
   ],
   "source": [
    "# nx.jaccard_coefficient is too slow; we can roll our own with the adjacency matrix.\n",
    "possible = special.comb(graph.number_of_nodes(), 2, exact=True) - graph.number_of_nodes()\n",
    "print(graph.number_of_edges(), possible, graph.number_of_edges() / possible * 100)"
   ]
  },
  {
   "cell_type": "code",
   "execution_count": 4,
   "id": "resident-scope",
   "metadata": {},
   "outputs": [
    {
     "name": "stdout",
     "output_type": "stream",
     "text": [
      "(41995, 41995)\n"
     ]
    }
   ],
   "source": [
    "a = nx.to_numpy_array(graph, dtype=bool)\n",
    "print(a.shape)"
   ]
  },
  {
   "cell_type": "code",
   "execution_count": 5,
   "id": "auburn-witch",
   "metadata": {},
   "outputs": [
    {
     "name": "stdout",
     "output_type": "stream",
     "text": [
      "1.2832956304321943 0.0\n",
      "2.7284325637910083 2.0\n"
     ]
    }
   ],
   "source": [
    "# What is the average number of connections?\n",
    "total = a.sum(axis=1)\n",
    "print(np.mean(total), np.median(total))\n",
    "# now without the singletons\n",
    "print(np.mean(total[total > 0]), np.median(total[total > 0]))"
   ]
  },
  {
   "cell_type": "code",
   "execution_count": 7,
   "id": "excess-logging",
   "metadata": {},
   "outputs": [
    {
     "name": "stderr",
     "output_type": "stream",
     "text": [
      "100%|██████████| 41995/41995 [00:32<00:00, 1285.25it/s]\n"
     ]
    }
   ],
   "source": [
    "# Fold the vectors to speed up metric calculations.\n",
    "features = np.zeros([len(a), 1024], dtype=bool)\n",
    "for j in tqdm.tqdm(range(a.shape[1])):\n",
    "    k = j % features.shape[1]\n",
    "    features[:, k] = np.maximum(a[:, j], features[:, k])\n",
    "del a  # Save memory."
   ]
  },
  {
   "cell_type": "code",
   "execution_count": 8,
   "id": "numerical-warehouse",
   "metadata": {},
   "outputs": [],
   "source": [
    "# scipy jaccard sets the distance to zero when there are no common neighbors\n",
    "def jaccard(features):\n",
    "    ab = np.matmul(features, features.T, dtype=int)\n",
    "    aa = features.sum(axis=1, keepdims=True)\n",
    "    bb = aa.T\n",
    "    return ab / (aa + bb - ab)"
   ]
  },
  {
   "cell_type": "code",
   "execution_count": 10,
   "id": "finished-public",
   "metadata": {},
   "outputs": [
    {
     "data": {
      "text/plain": [
       "scipy.sparse.csr.csr_matrix"
      ]
     },
     "execution_count": 10,
     "metadata": {},
     "output_type": "execute_result"
    }
   ],
   "source": [
    "a = nx.adjacency_matrix(graph)\n",
    "type(a)"
   ]
  },
  {
   "cell_type": "code",
   "execution_count": 15,
   "id": "surgical-liberty",
   "metadata": {},
   "outputs": [
    {
     "name": "stdout",
     "output_type": "stream",
     "text": [
      "(41995, 41995)\n",
      "CPU times: user 4.54 s, sys: 5.46 s, total: 9.99 s\n",
      "Wall time: 9.99 s\n"
     ]
    }
   ],
   "source": [
    "%%time\n",
    "ab = a @ a.T\n",
    "aa = a.sum(axis=1)\n",
    "bb = aa.T\n",
    "s = ab / (aa + bb - ab)\n",
    "print(s.shape)"
   ]
  },
  {
   "cell_type": "code",
   "execution_count": 22,
   "id": "characteristic-deviation",
   "metadata": {},
   "outputs": [],
   "source": [
    "s = np.nan_to_num(s, copy=False)\n",
    "s[np.diag_indices_from(s)] = 0"
   ]
  },
  {
   "cell_type": "code",
   "execution_count": null,
   "id": "bright-charlotte",
   "metadata": {},
   "outputs": [],
   "source": [
    "%%time\n",
    "d = jaccard(features)"
   ]
  },
  {
   "cell_type": "code",
   "execution_count": null,
   "id": "asian-communications",
   "metadata": {},
   "outputs": [],
   "source": [
    "sq = distance.squareform(d)\n",
    "nz = sq[sq > 0]\n",
    "print(sq.shape, nz.shape)"
   ]
  },
  {
   "cell_type": "code",
   "execution_count": null,
   "id": "drawn-subscriber",
   "metadata": {},
   "outputs": [],
   "source": [
    "sns.displot(nz, kind='ecdf')"
   ]
  },
  {
   "cell_type": "code",
   "execution_count": 23,
   "id": "fallen-access",
   "metadata": {},
   "outputs": [
    {
     "name": "stdout",
     "output_type": "stream",
     "text": [
      "(881769015,)\n"
     ]
    },
    {
     "data": {
      "text/plain": [
       "<seaborn.axisgrid.FacetGrid at 0x7f9cbaf5a310>"
      ]
     },
     "execution_count": 23,
     "metadata": {},
     "output_type": "execute_result"
    },
    {
     "data": {
      "image/png": "[encoded data removed]",
      "text/plain": [
       "<Figure size 360x360 with 1 Axes>"
      ]
     },
     "metadata": {
      "needs_background": "light"
     },
     "output_type": "display_data"
    }
   ],
   "source": [
    "nz = distance.squareform(s)\n",
    "print(nz.shape)\n",
    "sns.displot(nz[nz > 0], kind='ecdf')"
   ]
  },
  {
   "cell_type": "code",
   "execution_count": null,
   "id": "african-cattle",
   "metadata": {},
   "outputs": [],
   "source": [
    "sns.displot(nz, kind='ecdf')"
   ]
  }
 ],
 "metadata": {
  "kernelspec": {
   "display_name": "Python 3",
   "language": "python",
   "name": "python3"
  },
  "language_info": {
   "codemirror_mode": {
    "name": "ipython",
    "version": 3
   },
   "file_extension": ".py",
   "mimetype": "text/x-python",
   "name": "python",
   "nbconvert_exporter": "python",
   "pygments_lexer": "ipython3",
   "version": "3.8.8"
  }
 },
 "nbformat": 4,
 "nbformat_minor": 5
}
