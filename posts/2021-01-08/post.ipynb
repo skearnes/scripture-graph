{
 "cells": [
  {
   "cell_type": "code",
   "execution_count": 1,
   "metadata": {},
   "outputs": [
    {
     "name": "stdout",
     "output_type": "stream",
     "text": [
      "Populating the interactive namespace from numpy and matplotlib\n"
     ]
    }
   ],
   "source": [
    "import collections\n",
    "import dataclasses\n",
    "\n",
    "import networkx as nx\n",
    "import numpy as np\n",
    "import pandas as pd\n",
    "import scipy.stats\n",
    "import seaborn as sns\n",
    "\n",
    "from scripture_graph import graph_lib\n",
    "from scripture_graph import notebook_lib\n",
    "\n",
    "%pylab inline"
   ]
  },
  {
   "cell_type": "code",
   "execution_count": 2,
   "metadata": {},
   "outputs": [
    {
     "name": "stdout",
     "output_type": "stream",
     "text": [
      "Name: \n",
      "Type: DiGraph\n",
      "Number of nodes: 48566\n",
      "Number of edges: 183072\n",
      "Average in degree:   3.7696\n",
      "Average out degree:   3.7696\n"
     ]
    }
   ],
   "source": [
    "graph = nx.read_graphml('../../scripture_graph.graphml')\n",
    "print(nx.info(graph))"
   ]
  },
  {
   "cell_type": "code",
   "execution_count": 3,
   "metadata": {},
   "outputs": [
    {
     "name": "stdout",
     "output_type": "stream",
     "text": [
      "48566 183072\n",
      "41995 45985\n"
     ]
    }
   ],
   "source": [
    "# Make a copy without the topic nodes.\n",
    "original_graph = graph.copy()\n",
    "\n",
    "# Drop topic nodes/references.\n",
    "print(original_graph.number_of_nodes(), original_graph.number_of_edges())\n",
    "drop = set()\n",
    "for node in original_graph.nodes:\n",
    "    if original_graph.nodes[node]['kind'] == 'topic':\n",
    "        drop.add(node)\n",
    "for node in drop:\n",
    "    original_graph.remove_node(node)\n",
    "print(original_graph.number_of_nodes(), original_graph.number_of_edges())"
   ]
  },
  {
   "cell_type": "code",
   "execution_count": 4,
   "metadata": {},
   "outputs": [],
   "source": [
    "def analyze_graph(graph):\n",
    "    rows = []\n",
    "    for node in graph.nodes:\n",
    "        if graph.nodes[node]['kind'] == 'topic':\n",
    "            row = graph.nodes[node]\n",
    "            row['key'] = node\n",
    "            rows.append(row)\n",
    "    topics = pd.DataFrame(rows)\n",
    "    print('NODES')\n",
    "    print('topics')\n",
    "    print(topics.source.value_counts())\n",
    "    print('other', graph.number_of_nodes() - len(topics))\n",
    "    print('total', graph.number_of_nodes())\n",
    "    \n",
    "    rows = []\n",
    "    for source, target in graph.edges:\n",
    "        row = {'source': source, 'target': target}\n",
    "        row.update({f'source_{key}': value for key, value in graph.nodes[source].items()})\n",
    "        row.update({f'target_{key}': value for key, value in graph.nodes[target].items()})\n",
    "        rows.append(row)\n",
    "    edges = pd.DataFrame(rows)\n",
    "    topic_topic = (edges.source_kind == 'topic') & (edges.target_kind == 'topic')\n",
    "    topic_verse = (edges.source_kind == 'topic') & (edges.target_kind == 'verse')\n",
    "    verse_topic = (edges.source_kind == 'verse') & (edges.target_kind == 'topic')\n",
    "    verse_verse = (edges.source_kind == 'verse') & (edges.target_kind == 'verse')\n",
    "\n",
    "    print('EDGES')\n",
    "    print('topic->verse', topic_verse.sum())\n",
    "    print('verse->topic', verse_topic.sum())\n",
    "    print('verse->verse', verse_verse.sum())\n",
    "    print('topic->topic', topic_topic.sum())\n",
    "    print('total', graph.number_of_edges())\n",
    "    assert topic_verse.sum() + verse_topic.sum() + verse_verse.sum() + topic_topic.sum() == graph.number_of_edges()"
   ]
  },
  {
   "cell_type": "code",
   "execution_count": 5,
   "metadata": {},
   "outputs": [
    {
     "name": "stdout",
     "output_type": "stream",
     "text": [
      "NODES\n",
      "topics\n",
      "TG       3512\n",
      "IttTC    3059\n",
      "Name: source, dtype: int64\n",
      "other 41995\n",
      "total 48566\n",
      "EDGES\n",
      "topic->verse 100597\n",
      "verse->topic 22223\n",
      "verse->verse 45985\n",
      "topic->topic 14267\n",
      "total 183072\n"
     ]
    }
   ],
   "source": [
    "analyze_graph(graph)"
   ]
  },
  {
   "cell_type": "markdown",
   "metadata": {},
   "source": [
    "# Repeat previous analysis"
   ]
  },
  {
   "cell_type": "code",
   "execution_count": 6,
   "metadata": {},
   "outputs": [
    {
     "name": "stdout",
     "output_type": "stream",
     "text": [
      "(83990, 8)\n"
     ]
    },
    {
     "data": {
      "text/html": [
       "<div>\n",
       "<style scoped>\n",
       "    .dataframe tbody tr th:only-of-type {\n",
       "        vertical-align: middle;\n",
       "    }\n",
       "\n",
       "    .dataframe tbody tr th {\n",
       "        vertical-align: top;\n",
       "    }\n",
       "\n",
       "    .dataframe thead th {\n",
       "        text-align: right;\n",
       "    }\n",
       "</style>\n",
       "<table border=\"1\" class=\"dataframe\">\n",
       "  <thead>\n",
       "    <tr style=\"text-align: right;\">\n",
       "      <th></th>\n",
       "      <th>node</th>\n",
       "      <th>degree</th>\n",
       "      <th>subset</th>\n",
       "      <th>kind</th>\n",
       "      <th>volume</th>\n",
       "      <th>book</th>\n",
       "      <th>chapter</th>\n",
       "      <th>verse</th>\n",
       "    </tr>\n",
       "  </thead>\n",
       "  <tbody>\n",
       "    <tr>\n",
       "      <th>0</th>\n",
       "      <td>1 Chr. 1:1</td>\n",
       "      <td>0</td>\n",
       "      <td>with_topics</td>\n",
       "      <td>verse</td>\n",
       "      <td>Old Testament</td>\n",
       "      <td>1 Chr.</td>\n",
       "      <td>1</td>\n",
       "      <td>1</td>\n",
       "    </tr>\n",
       "    <tr>\n",
       "      <th>1</th>\n",
       "      <td>1 Chr. 1:1</td>\n",
       "      <td>0</td>\n",
       "      <td>without_topics</td>\n",
       "      <td>verse</td>\n",
       "      <td>Old Testament</td>\n",
       "      <td>1 Chr.</td>\n",
       "      <td>1</td>\n",
       "      <td>1</td>\n",
       "    </tr>\n",
       "    <tr>\n",
       "      <th>2</th>\n",
       "      <td>1 Chr. 1:2</td>\n",
       "      <td>0</td>\n",
       "      <td>with_topics</td>\n",
       "      <td>verse</td>\n",
       "      <td>Old Testament</td>\n",
       "      <td>1 Chr.</td>\n",
       "      <td>1</td>\n",
       "      <td>2</td>\n",
       "    </tr>\n",
       "    <tr>\n",
       "      <th>3</th>\n",
       "      <td>1 Chr. 1:2</td>\n",
       "      <td>0</td>\n",
       "      <td>without_topics</td>\n",
       "      <td>verse</td>\n",
       "      <td>Old Testament</td>\n",
       "      <td>1 Chr.</td>\n",
       "      <td>1</td>\n",
       "      <td>2</td>\n",
       "    </tr>\n",
       "    <tr>\n",
       "      <th>4</th>\n",
       "      <td>1 Chr. 1:3</td>\n",
       "      <td>0</td>\n",
       "      <td>with_topics</td>\n",
       "      <td>verse</td>\n",
       "      <td>Old Testament</td>\n",
       "      <td>1 Chr.</td>\n",
       "      <td>1</td>\n",
       "      <td>3</td>\n",
       "    </tr>\n",
       "  </tbody>\n",
       "</table>\n",
       "</div>"
      ],
      "text/plain": [
       "         node  degree          subset   kind         volume    book  chapter  \\\n",
       "0  1 Chr. 1:1       0     with_topics  verse  Old Testament  1 Chr.        1   \n",
       "1  1 Chr. 1:1       0  without_topics  verse  Old Testament  1 Chr.        1   \n",
       "2  1 Chr. 1:2       0     with_topics  verse  Old Testament  1 Chr.        1   \n",
       "3  1 Chr. 1:2       0  without_topics  verse  Old Testament  1 Chr.        1   \n",
       "4  1 Chr. 1:3       0     with_topics  verse  Old Testament  1 Chr.        1   \n",
       "\n",
       "   verse  \n",
       "0      1  \n",
       "1      1  \n",
       "2      2  \n",
       "3      2  \n",
       "4      3  "
      ]
     },
     "execution_count": 6,
     "metadata": {},
     "output_type": "execute_result"
    }
   ],
   "source": [
    "rows = []\n",
    "for node, degree in graph.in_degree():\n",
    "    if graph.nodes[node]['kind'] != 'verse':\n",
    "        continue\n",
    "    row = {'node': node, 'degree': degree, 'subset': 'with_topics'}\n",
    "    row.update(graph.nodes[node])\n",
    "    rows.append(row)\n",
    "    row = {'node': node, 'degree': original_graph.in_degree(node), 'subset': 'without_topics'}\n",
    "    row.update(graph.nodes[node])\n",
    "    rows.append(row)\n",
    "degree = pd.DataFrame(rows)\n",
    "print(degree.shape)\n",
    "degree.head()"
   ]
  },
  {
   "cell_type": "code",
   "execution_count": 7,
   "metadata": {},
   "outputs": [],
   "source": [
    "mask = (degree.subset == 'with_topics')"
   ]
  },
  {
   "cell_type": "code",
   "execution_count": 8,
   "metadata": {},
   "outputs": [
    {
     "data": {
      "text/plain": [
       "0.30927491368020005"
      ]
     },
     "execution_count": 8,
     "metadata": {},
     "output_type": "execute_result"
    }
   ],
   "source": [
    "alone = (degree[mask].degree == 0).sum()\n",
    "alone / len(degree[mask])"
   ]
  },
  {
   "cell_type": "code",
   "execution_count": 9,
   "metadata": {},
   "outputs": [
    {
     "data": {
      "text/plain": [
       "0.4804143350398857"
      ]
     },
     "execution_count": 9,
     "metadata": {},
     "output_type": "execute_result"
    }
   ],
   "source": [
    "count = (degree[mask].degree >= 1) & (degree[mask].degree <= 5)\n",
    "count.sum() / len(degree[mask])"
   ]
  },
  {
   "cell_type": "code",
   "execution_count": 10,
   "metadata": {},
   "outputs": [
    {
     "data": {
      "image/png": "[encoded data removed]",
      "text/plain": [
       "<Figure size 432x288 with 1 Axes>"
      ]
     },
     "metadata": {},
     "output_type": "display_data"
    }
   ],
   "source": [
    "sns.set_style('whitegrid')\n",
    "\n",
    "fig, ax = subplots()\n",
    "sns.ecdfplot(data=degree, x='degree', hue='subset', hue_order=['without_topics', 'with_topics'], ax=ax)\n",
    "suptitle('Cumulative Reference Counts')\n",
    "ax.set_xlabel('Number of References')\n",
    "ax.set_xlim(0, 27)\n",
    "fig.savefig('count-cdf.png', dpi=300, bbox_inches='tight')"
   ]
  },
  {
   "cell_type": "code",
   "execution_count": 11,
   "metadata": {},
   "outputs": [
    {
     "data": {
      "text/plain": [
       "defaultdict(int,\n",
       "            {'Old Testament': 23145,\n",
       "             'New Testament': 7957,\n",
       "             'Book of Mormon': 6604,\n",
       "             'Pearl of Great Price': 635,\n",
       "             'Doctrine and Covenants': 3654})"
      ]
     },
     "execution_count": 11,
     "metadata": {},
     "output_type": "execute_result"
    }
   ],
   "source": [
    "volume_totals = collections.defaultdict(int)\n",
    "for node in graph.nodes:\n",
    "    volume_totals[graph.nodes[node]['volume']] += 1\n",
    "del volume_totals['Study Helps']\n",
    "volume_totals"
   ]
  },
  {
   "cell_type": "code",
   "execution_count": 12,
   "metadata": {},
   "outputs": [
    {
     "data": {
      "text/plain": [
       "{'Old Testament': 17017,\n",
       " 'New Testament': 7260,\n",
       " 'Book of Mormon': 12278,\n",
       " 'Pearl of Great Price': 1435,\n",
       " 'Doctrine and Covenants': 7995}"
      ]
     },
     "execution_count": 12,
     "metadata": {},
     "output_type": "execute_result"
    }
   ],
   "source": [
    "volume_degree_without_topics = {}\n",
    "for key in volume_totals:\n",
    "    mask = (degree.subset == 'without_topics') & (degree.volume == key)\n",
    "    volume_degree_without_topics[key] = degree[mask].degree.values.sum()\n",
    "volume_degree_without_topics"
   ]
  },
  {
   "cell_type": "code",
   "execution_count": 13,
   "metadata": {},
   "outputs": [
    {
     "data": {
      "text/plain": [
       "{'Old Testament': 0.7352343918772953,\n",
       " 'New Testament': 0.9124041724267941,\n",
       " 'Book of Mormon': 1.8591762568140522,\n",
       " 'Pearl of Great Price': 2.2598425196850394,\n",
       " 'Doctrine and Covenants': 2.1880131362889985}"
      ]
     },
     "execution_count": 13,
     "metadata": {},
     "output_type": "execute_result"
    }
   ],
   "source": [
    "relative_volume_degree_without_topics = {}\n",
    "for key in volume_totals:\n",
    "    relative_volume_degree_without_topics[key] = volume_degree_without_topics[key] / volume_totals[key]\n",
    "relative_volume_degree_without_topics"
   ]
  },
  {
   "cell_type": "code",
   "execution_count": 14,
   "metadata": {},
   "outputs": [
    {
     "data": {
      "text/plain": [
       "{'Old Testament': 36589,\n",
       " 'New Testament': 29048,\n",
       " 'Book of Mormon': 43602,\n",
       " 'Pearl of Great Price': 6011,\n",
       " 'Doctrine and Covenants': 31332}"
      ]
     },
     "execution_count": 14,
     "metadata": {},
     "output_type": "execute_result"
    }
   ],
   "source": [
    "volume_degree_with_topics = {}\n",
    "for key in volume_totals:\n",
    "    mask = (degree.subset == 'with_topics') & (degree.volume == key)\n",
    "    volume_degree_with_topics[key] = degree[mask].degree.values.sum()\n",
    "volume_degree_with_topics"
   ]
  },
  {
   "cell_type": "code",
   "execution_count": 15,
   "metadata": {},
   "outputs": [
    {
     "data": {
      "text/plain": [
       "{'Old Testament': 1.5808597969323828,\n",
       " 'New Testament': 3.6506220937539275,\n",
       " 'Book of Mormon': 6.602362204724409,\n",
       " 'Pearl of Great Price': 9.466141732283464,\n",
       " 'Doctrine and Covenants': 8.574712643678161}"
      ]
     },
     "execution_count": 15,
     "metadata": {},
     "output_type": "execute_result"
    }
   ],
   "source": [
    "relative_volume_degree_with_topics = {}\n",
    "for key in volume_totals:\n",
    "    relative_volume_degree_with_topics[key] = volume_degree_with_topics[key] / volume_totals[key]\n",
    "relative_volume_degree_with_topics"
   ]
  },
  {
   "cell_type": "code",
   "execution_count": 16,
   "metadata": {},
   "outputs": [
    {
     "data": {
      "text/plain": [
       "{'Old Testament': 19572,\n",
       " 'New Testament': 21788,\n",
       " 'Book of Mormon': 31324,\n",
       " 'Pearl of Great Price': 4576,\n",
       " 'Doctrine and Covenants': 23337}"
      ]
     },
     "execution_count": 16,
     "metadata": {},
     "output_type": "execute_result"
    }
   ],
   "source": [
    "delta_degree = {}\n",
    "for key, value in volume_degree_with_topics.items():\n",
    "    delta_degree[key] = value - volume_degree_without_topics[key]\n",
    "delta_degree"
   ]
  },
  {
   "cell_type": "code",
   "execution_count": 17,
   "metadata": {},
   "outputs": [
    {
     "data": {
      "text/plain": [
       "{'Old Testament': 0.8456254050550874,\n",
       " 'New Testament': 2.7382179213271334,\n",
       " 'Book of Mormon': 4.743185947910357,\n",
       " 'Pearl of Great Price': 7.2062992125984255,\n",
       " 'Doctrine and Covenants': 6.386699507389163}"
      ]
     },
     "execution_count": 17,
     "metadata": {},
     "output_type": "execute_result"
    }
   ],
   "source": [
    "relative_delta_degree = {}\n",
    "for key, value in relative_volume_degree_with_topics.items():\n",
    "    relative_delta_degree[key] = value - relative_volume_degree_without_topics[key]\n",
    "relative_delta_degree"
   ]
  },
  {
   "cell_type": "code",
   "execution_count": 18,
   "metadata": {},
   "outputs": [
    {
     "data": {
      "image/png": "[encoded data removed]",
      "text/plain": [
       "<Figure size 504x360 with 2 Axes>"
      ]
     },
     "metadata": {},
     "output_type": "display_data"
    }
   ],
   "source": [
    "sns.set_style('white')\n",
    "colors = sns.color_palette()\n",
    "fig, ax = subplots(figsize=(7, 5))\n",
    "ax.bar(range(5), volume_degree_without_topics.values(), color=colors[0], label='absolute', width=-0.3, align='edge')\n",
    "ax.bar(range(5), delta_degree.values(), bottom=list(volume_degree_without_topics.values()), color=colors[2], label='absolute + topics', width=-0.3, align='edge')\n",
    "ax.set_ylabel('Absolute Counts', fontsize=14)\n",
    "ax2 = ax.twinx()\n",
    "ax2.bar(range(5), relative_volume_degree_without_topics.values(), color=colors[1], label='relative', width=0.3, align='edge')\n",
    "ax2.bar(range(5), relative_delta_degree.values(), bottom=list(relative_volume_degree_without_topics.values()), color=colors[3], label='relative + topics', width=0.3, align='edge')\n",
    "ax2.set_ylabel('Relative Counts', fontsize=14)\n",
    "ax.tick_params(axis='y', labelsize=12)\n",
    "ax2.tick_params(axis='y', labelsize=12)\n",
    "ax.set_xticks(range(5))\n",
    "ax.set_xticklabels([graph_lib.VOLUMES_SHORT[key] for key in volume_degree_without_topics], fontsize=12)\n",
    "ax.set_ylim(0, 53000)\n",
    "ax2.set_ylim(0, 11)\n",
    "# figlegend(loc=(0.23, 0.674), fontsize=10)\n",
    "figlegend(loc=(0.155, 0.66), fontsize=11)\n",
    "suptitle('Absolute and Relative Reference Counts', fontsize=16)\n",
    "fig.savefig('count-bar.png', dpi=300, bbox_inches='tight')"
   ]
  },
  {
   "cell_type": "markdown",
   "metadata": {},
   "source": [
    "# Get the largest subgraph"
   ]
  },
  {
   "cell_type": "code",
   "execution_count": 19,
   "metadata": {},
   "outputs": [
    {
     "data": {
      "text/html": [
       "<div>\n",
       "<style scoped>\n",
       "    .dataframe tbody tr th:only-of-type {\n",
       "        vertical-align: middle;\n",
       "    }\n",
       "\n",
       "    .dataframe tbody tr th {\n",
       "        vertical-align: top;\n",
       "    }\n",
       "\n",
       "    .dataframe thead th {\n",
       "        text-align: right;\n",
       "    }\n",
       "</style>\n",
       "<table border=\"1\" class=\"dataframe\">\n",
       "  <thead>\n",
       "    <tr style=\"text-align: right;\">\n",
       "      <th></th>\n",
       "      <th>size</th>\n",
       "      <th>count</th>\n",
       "    </tr>\n",
       "  </thead>\n",
       "  <tbody>\n",
       "    <tr>\n",
       "      <th>0</th>\n",
       "      <td>1</td>\n",
       "      <td>12943</td>\n",
       "    </tr>\n",
       "    <tr>\n",
       "      <th>1</th>\n",
       "      <td>2</td>\n",
       "      <td>287</td>\n",
       "    </tr>\n",
       "    <tr>\n",
       "      <th>2</th>\n",
       "      <td>3</td>\n",
       "      <td>59</td>\n",
       "    </tr>\n",
       "    <tr>\n",
       "      <th>3</th>\n",
       "      <td>4</td>\n",
       "      <td>14</td>\n",
       "    </tr>\n",
       "    <tr>\n",
       "      <th>4</th>\n",
       "      <td>5</td>\n",
       "      <td>7</td>\n",
       "    </tr>\n",
       "    <tr>\n",
       "      <th>5</th>\n",
       "      <td>6</td>\n",
       "      <td>1</td>\n",
       "    </tr>\n",
       "    <tr>\n",
       "      <th>6</th>\n",
       "      <td>7</td>\n",
       "      <td>2</td>\n",
       "    </tr>\n",
       "    <tr>\n",
       "      <th>7</th>\n",
       "      <td>11</td>\n",
       "      <td>2</td>\n",
       "    </tr>\n",
       "    <tr>\n",
       "      <th>8</th>\n",
       "      <td>34739</td>\n",
       "      <td>1</td>\n",
       "    </tr>\n",
       "  </tbody>\n",
       "</table>\n",
       "</div>"
      ],
      "text/plain": [
       "    size  count\n",
       "0      1  12943\n",
       "1      2    287\n",
       "2      3     59\n",
       "3      4     14\n",
       "4      5      7\n",
       "5      6      1\n",
       "6      7      2\n",
       "7     11      2\n",
       "8  34739      1"
      ]
     },
     "execution_count": 19,
     "metadata": {},
     "output_type": "execute_result"
    }
   ],
   "source": [
    "sizes = []\n",
    "for component in nx.weakly_connected_components(graph):\n",
    "    sizes.append(len(component))\n",
    "sizes = np.asarray(sizes)\n",
    "\n",
    "x = np.unique(sizes)\n",
    "y = np.asarray([np.count_nonzero(sizes == size) for size in x])\n",
    "df = pd.DataFrame({'size': x, 'count': y})\n",
    "df"
   ]
  },
  {
   "cell_type": "code",
   "execution_count": 20,
   "metadata": {},
   "outputs": [
    {
     "name": "stdout",
     "output_type": "stream",
     "text": [
      "48566\n",
      "183072\n",
      "34739\n",
      "182096\n"
     ]
    }
   ],
   "source": [
    "# Prune the graph to the largest weakly connected component.\n",
    "nodes = None\n",
    "for component in nx.weakly_connected_components(graph):\n",
    "    if len(component) > 1000:\n",
    "        nodes = component\n",
    "        break\n",
    "subgraph = nx.subgraph(graph, nodes)\n",
    "print(graph.number_of_nodes())\n",
    "print(graph.number_of_edges())\n",
    "print(subgraph.number_of_nodes())\n",
    "print(subgraph.number_of_edges())"
   ]
  },
  {
   "cell_type": "code",
   "execution_count": 21,
   "metadata": {},
   "outputs": [
    {
     "name": "stdout",
     "output_type": "stream",
     "text": [
      "12943 0.2665033150763909\n"
     ]
    }
   ],
   "source": [
    "# Percentage of singletons (no incoming *or* outgoing edges)\n",
    "count = 0\n",
    "for node, degree in graph.degree():\n",
    "    if degree == 0:\n",
    "        count += 1\n",
    "print(count, count / graph.number_of_nodes())"
   ]
  },
  {
   "cell_type": "code",
   "execution_count": 22,
   "metadata": {},
   "outputs": [
    {
     "name": "stdout",
     "output_type": "stream",
     "text": [
      "0.9751845717654325\n"
     ]
    }
   ],
   "source": [
    "# Percentage of non-singletons in the largest component.\n",
    "print(subgraph.number_of_nodes() / (graph.number_of_nodes() - count))"
   ]
  },
  {
   "cell_type": "code",
   "execution_count": 23,
   "metadata": {},
   "outputs": [
    {
     "name": "stdout",
     "output_type": "stream",
     "text": [
      "0.7152946505785941\n"
     ]
    }
   ],
   "source": [
    "# Percentage of nodes.\n",
    "print(subgraph.number_of_nodes() / graph.number_of_nodes())"
   ]
  },
  {
   "cell_type": "code",
   "execution_count": 24,
   "metadata": {},
   "outputs": [
    {
     "name": "stdout",
     "output_type": "stream",
     "text": [
      "28573 41995 0.6803905226812715\n"
     ]
    }
   ],
   "source": [
    "# Percentage of verses.\n",
    "count = 0\n",
    "total = 0\n",
    "for node in graph.nodes:\n",
    "    if graph.nodes[node]['kind'] != 'verse':\n",
    "        continue\n",
    "    total += 1\n",
    "    if node in subgraph.nodes:\n",
    "        count += 1\n",
    "print(count, total, count / total)"
   ]
  },
  {
   "cell_type": "code",
   "execution_count": 25,
   "metadata": {},
   "outputs": [
    {
     "name": "stdout",
     "output_type": "stream",
     "text": [
      "0.9946687642020626\n"
     ]
    }
   ],
   "source": [
    "# Percentage of edges.\n",
    "print(subgraph.number_of_edges() / graph.number_of_edges())"
   ]
  },
  {
   "cell_type": "code",
   "execution_count": 26,
   "metadata": {},
   "outputs": [
    {
     "name": "stdout",
     "output_type": "stream",
     "text": [
      "NODES\n",
      "topics\n",
      "TG       3180\n",
      "IttTC    2986\n",
      "Name: source, dtype: int64\n",
      "other 28573\n",
      "total 34739\n",
      "EDGES\n",
      "topic->verse 100537\n",
      "verse->topic 22223\n",
      "verse->verse 45070\n",
      "topic->topic 14266\n",
      "total 182096\n"
     ]
    }
   ],
   "source": [
    "analyze_graph(subgraph)"
   ]
  },
  {
   "cell_type": "markdown",
   "metadata": {},
   "source": [
    "# Centrality and link analysis"
   ]
  },
  {
   "cell_type": "code",
   "execution_count": 27,
   "metadata": {},
   "outputs": [],
   "source": [
    "degree_df = notebook_lib.assign_ranks(nx.in_degree_centrality(subgraph))"
   ]
  },
  {
   "cell_type": "code",
   "execution_count": 28,
   "metadata": {},
   "outputs": [],
   "source": [
    "pagerank_df = notebook_lib.assign_ranks(nx.pagerank(subgraph))"
   ]
  },
  {
   "cell_type": "code",
   "execution_count": 29,
   "metadata": {},
   "outputs": [
    {
     "data": {
      "text/html": [
       "<div>\n",
       "<style scoped>\n",
       "    .dataframe tbody tr th:only-of-type {\n",
       "        vertical-align: middle;\n",
       "    }\n",
       "\n",
       "    .dataframe tbody tr th {\n",
       "        vertical-align: top;\n",
       "    }\n",
       "\n",
       "    .dataframe thead th {\n",
       "        text-align: right;\n",
       "    }\n",
       "</style>\n",
       "<table border=\"1\" class=\"dataframe\">\n",
       "  <thead>\n",
       "    <tr style=\"text-align: right;\">\n",
       "      <th></th>\n",
       "      <th>key</th>\n",
       "      <th>score_degree</th>\n",
       "      <th>rank_degree</th>\n",
       "      <th>score_pagerank</th>\n",
       "      <th>rank_pagerank</th>\n",
       "    </tr>\n",
       "  </thead>\n",
       "  <tbody>\n",
       "    <tr>\n",
       "      <th>0</th>\n",
       "      <td>TG Faith</td>\n",
       "      <td>0.004145</td>\n",
       "      <td>1</td>\n",
       "      <td>0.000933</td>\n",
       "      <td>1</td>\n",
       "    </tr>\n",
       "    <tr>\n",
       "      <th>1</th>\n",
       "      <td>TG Righteousness</td>\n",
       "      <td>0.004145</td>\n",
       "      <td>1</td>\n",
       "      <td>0.000899</td>\n",
       "      <td>2</td>\n",
       "    </tr>\n",
       "    <tr>\n",
       "      <th>2</th>\n",
       "      <td>TG Repent, Repentance</td>\n",
       "      <td>0.004059</td>\n",
       "      <td>3</td>\n",
       "      <td>0.000734</td>\n",
       "      <td>11</td>\n",
       "    </tr>\n",
       "    <tr>\n",
       "      <th>3</th>\n",
       "      <td>TG Prayer, Pray</td>\n",
       "      <td>0.003915</td>\n",
       "      <td>4</td>\n",
       "      <td>0.000822</td>\n",
       "      <td>5</td>\n",
       "    </tr>\n",
       "    <tr>\n",
       "      <th>4</th>\n",
       "      <td>TG Obedience, Obedient, Obey</td>\n",
       "      <td>0.003541</td>\n",
       "      <td>5</td>\n",
       "      <td>0.000612</td>\n",
       "      <td>30</td>\n",
       "    </tr>\n",
       "    <tr>\n",
       "      <th>5</th>\n",
       "      <td>TG Sin</td>\n",
       "      <td>0.003397</td>\n",
       "      <td>6</td>\n",
       "      <td>0.000623</td>\n",
       "      <td>27</td>\n",
       "    </tr>\n",
       "    <tr>\n",
       "      <th>6</th>\n",
       "      <td>TG Jesus Christ, Prophecies about</td>\n",
       "      <td>0.003310</td>\n",
       "      <td>7</td>\n",
       "      <td>0.000855</td>\n",
       "      <td>4</td>\n",
       "    </tr>\n",
       "    <tr>\n",
       "      <th>7</th>\n",
       "      <td>TG Jesus Christ, Atonement through</td>\n",
       "      <td>0.003224</td>\n",
       "      <td>8</td>\n",
       "      <td>0.000674</td>\n",
       "      <td>20</td>\n",
       "    </tr>\n",
       "    <tr>\n",
       "      <th>8</th>\n",
       "      <td>TG Forgive, Forgiveness</td>\n",
       "      <td>0.003138</td>\n",
       "      <td>9</td>\n",
       "      <td>0.000720</td>\n",
       "      <td>12</td>\n",
       "    </tr>\n",
       "    <tr>\n",
       "      <th>9</th>\n",
       "      <td>TG God, Spirit of</td>\n",
       "      <td>0.003023</td>\n",
       "      <td>10</td>\n",
       "      <td>0.000717</td>\n",
       "      <td>13</td>\n",
       "    </tr>\n",
       "    <tr>\n",
       "      <th>10</th>\n",
       "      <td>TG Idolatry, Idol</td>\n",
       "      <td>0.002936</td>\n",
       "      <td>11</td>\n",
       "      <td>0.000868</td>\n",
       "      <td>3</td>\n",
       "    </tr>\n",
       "    <tr>\n",
       "      <th>12</th>\n",
       "      <td>TG Treasure</td>\n",
       "      <td>0.002936</td>\n",
       "      <td>11</td>\n",
       "      <td>0.000766</td>\n",
       "      <td>8</td>\n",
       "    </tr>\n",
       "    <tr>\n",
       "      <th>13</th>\n",
       "      <td>TG God, Omniscience of</td>\n",
       "      <td>0.002907</td>\n",
       "      <td>14</td>\n",
       "      <td>0.000764</td>\n",
       "      <td>9</td>\n",
       "    </tr>\n",
       "    <tr>\n",
       "      <th>14</th>\n",
       "      <td>TG Grace</td>\n",
       "      <td>0.002879</td>\n",
       "      <td>15</td>\n",
       "      <td>0.000746</td>\n",
       "      <td>10</td>\n",
       "    </tr>\n",
       "    <tr>\n",
       "      <th>16</th>\n",
       "      <td>TG Disobedience, Disobey</td>\n",
       "      <td>0.002821</td>\n",
       "      <td>17</td>\n",
       "      <td>0.000772</td>\n",
       "      <td>7</td>\n",
       "    </tr>\n",
       "    <tr>\n",
       "      <th>28</th>\n",
       "      <td>TG Angels</td>\n",
       "      <td>0.002591</td>\n",
       "      <td>29</td>\n",
       "      <td>0.000794</td>\n",
       "      <td>6</td>\n",
       "    </tr>\n",
       "  </tbody>\n",
       "</table>\n",
       "</div>"
      ],
      "text/plain": [
       "                                   key  score_degree  rank_degree  \\\n",
       "0                             TG Faith      0.004145            1   \n",
       "1                     TG Righteousness      0.004145            1   \n",
       "2                TG Repent, Repentance      0.004059            3   \n",
       "3                      TG Prayer, Pray      0.003915            4   \n",
       "4         TG Obedience, Obedient, Obey      0.003541            5   \n",
       "5                               TG Sin      0.003397            6   \n",
       "6    TG Jesus Christ, Prophecies about      0.003310            7   \n",
       "7   TG Jesus Christ, Atonement through      0.003224            8   \n",
       "8              TG Forgive, Forgiveness      0.003138            9   \n",
       "9                    TG God, Spirit of      0.003023           10   \n",
       "10                   TG Idolatry, Idol      0.002936           11   \n",
       "12                         TG Treasure      0.002936           11   \n",
       "13              TG God, Omniscience of      0.002907           14   \n",
       "14                            TG Grace      0.002879           15   \n",
       "16            TG Disobedience, Disobey      0.002821           17   \n",
       "28                           TG Angels      0.002591           29   \n",
       "\n",
       "    score_pagerank  rank_pagerank  \n",
       "0         0.000933              1  \n",
       "1         0.000899              2  \n",
       "2         0.000734             11  \n",
       "3         0.000822              5  \n",
       "4         0.000612             30  \n",
       "5         0.000623             27  \n",
       "6         0.000855              4  \n",
       "7         0.000674             20  \n",
       "8         0.000720             12  \n",
       "9         0.000717             13  \n",
       "10        0.000868              3  \n",
       "12        0.000766              8  \n",
       "13        0.000764              9  \n",
       "14        0.000746             10  \n",
       "16        0.000772              7  \n",
       "28        0.000794              6  "
      ]
     },
     "execution_count": 29,
     "metadata": {},
     "output_type": "execute_result"
    }
   ],
   "source": [
    "merged = degree_df.merge(pagerank_df, on='key', suffixes=('_degree', '_pagerank'))\n",
    "assert len(merged) == len(degree_df) == len(pagerank_df)\n",
    "topk = set(merged.key.values[:10])\n",
    "topk.update(set(merged.sort_values('rank_pagerank').key.values[:10]))\n",
    "merged[merged.key.isin(topk)]"
   ]
  },
  {
   "cell_type": "code",
   "execution_count": 30,
   "metadata": {},
   "outputs": [],
   "source": [
    "hubs, authorities = nx.hits(subgraph, max_iter=1000)"
   ]
  },
  {
   "cell_type": "code",
   "execution_count": 31,
   "metadata": {},
   "outputs": [
    {
     "data": {
      "text/html": [
       "<div>\n",
       "<style scoped>\n",
       "    .dataframe tbody tr th:only-of-type {\n",
       "        vertical-align: middle;\n",
       "    }\n",
       "\n",
       "    .dataframe tbody tr th {\n",
       "        vertical-align: top;\n",
       "    }\n",
       "\n",
       "    .dataframe thead th {\n",
       "        text-align: right;\n",
       "    }\n",
       "</style>\n",
       "<table border=\"1\" class=\"dataframe\">\n",
       "  <thead>\n",
       "    <tr style=\"text-align: right;\">\n",
       "      <th></th>\n",
       "      <th>key</th>\n",
       "      <th>score</th>\n",
       "      <th>rank</th>\n",
       "    </tr>\n",
       "  </thead>\n",
       "  <tbody>\n",
       "    <tr>\n",
       "      <th>0</th>\n",
       "      <td>IttTC God</td>\n",
       "      <td>0.004818</td>\n",
       "      <td>1</td>\n",
       "    </tr>\n",
       "    <tr>\n",
       "      <th>1</th>\n",
       "      <td>IttTC Jesus Christ</td>\n",
       "      <td>0.003994</td>\n",
       "      <td>2</td>\n",
       "    </tr>\n",
       "    <tr>\n",
       "      <th>2</th>\n",
       "      <td>TG Spirit</td>\n",
       "      <td>0.003209</td>\n",
       "      <td>3</td>\n",
       "    </tr>\n",
       "    <tr>\n",
       "      <th>3</th>\n",
       "      <td>IttTC Name of the Lord</td>\n",
       "      <td>0.002814</td>\n",
       "      <td>4</td>\n",
       "    </tr>\n",
       "    <tr>\n",
       "      <th>4</th>\n",
       "      <td>IttTC Jesus Christ—Son of God</td>\n",
       "      <td>0.002726</td>\n",
       "      <td>5</td>\n",
       "    </tr>\n",
       "    <tr>\n",
       "      <th>5</th>\n",
       "      <td>TG Know, Knew, Known</td>\n",
       "      <td>0.002464</td>\n",
       "      <td>6</td>\n",
       "    </tr>\n",
       "    <tr>\n",
       "      <th>6</th>\n",
       "      <td>IttTC Repentance, Repent</td>\n",
       "      <td>0.002420</td>\n",
       "      <td>7</td>\n",
       "    </tr>\n",
       "    <tr>\n",
       "      <th>7</th>\n",
       "      <td>IttTC Spirit, Holy/Spirit of the Lord</td>\n",
       "      <td>0.002286</td>\n",
       "      <td>8</td>\n",
       "    </tr>\n",
       "    <tr>\n",
       "      <th>8</th>\n",
       "      <td>TG Power, Powerful</td>\n",
       "      <td>0.002031</td>\n",
       "      <td>9</td>\n",
       "    </tr>\n",
       "    <tr>\n",
       "      <th>9</th>\n",
       "      <td>IttTC Faith</td>\n",
       "      <td>0.002016</td>\n",
       "      <td>10</td>\n",
       "    </tr>\n",
       "  </tbody>\n",
       "</table>\n",
       "</div>"
      ],
      "text/plain": [
       "                                     key     score  rank\n",
       "0                              IttTC God  0.004818     1\n",
       "1                     IttTC Jesus Christ  0.003994     2\n",
       "2                              TG Spirit  0.003209     3\n",
       "3                 IttTC Name of the Lord  0.002814     4\n",
       "4          IttTC Jesus Christ—Son of God  0.002726     5\n",
       "5                   TG Know, Knew, Known  0.002464     6\n",
       "6               IttTC Repentance, Repent  0.002420     7\n",
       "7  IttTC Spirit, Holy/Spirit of the Lord  0.002286     8\n",
       "8                     TG Power, Powerful  0.002031     9\n",
       "9                            IttTC Faith  0.002016    10"
      ]
     },
     "execution_count": 31,
     "metadata": {},
     "output_type": "execute_result"
    }
   ],
   "source": [
    "hub_df = notebook_lib.assign_ranks(hubs)\n",
    "hub_df.head(10)"
   ]
  },
  {
   "cell_type": "code",
   "execution_count": 32,
   "metadata": {},
   "outputs": [
    {
     "data": {
      "text/html": [
       "<div>\n",
       "<style scoped>\n",
       "    .dataframe tbody tr th:only-of-type {\n",
       "        vertical-align: middle;\n",
       "    }\n",
       "\n",
       "    .dataframe tbody tr th {\n",
       "        vertical-align: top;\n",
       "    }\n",
       "\n",
       "    .dataframe thead th {\n",
       "        text-align: right;\n",
       "    }\n",
       "</style>\n",
       "<table border=\"1\" class=\"dataframe\">\n",
       "  <thead>\n",
       "    <tr style=\"text-align: right;\">\n",
       "      <th></th>\n",
       "      <th>key</th>\n",
       "      <th>score</th>\n",
       "      <th>rank</th>\n",
       "    </tr>\n",
       "  </thead>\n",
       "  <tbody>\n",
       "    <tr>\n",
       "      <th>500</th>\n",
       "      <td>1 Ne. 19:10</td>\n",
       "      <td>0.000318</td>\n",
       "      <td>501</td>\n",
       "    </tr>\n",
       "    <tr>\n",
       "      <th>540</th>\n",
       "      <td>Moses 6:57</td>\n",
       "      <td>0.000299</td>\n",
       "      <td>541</td>\n",
       "    </tr>\n",
       "    <tr>\n",
       "      <th>555</th>\n",
       "      <td>2 Ne. 26:12</td>\n",
       "      <td>0.000296</td>\n",
       "      <td>556</td>\n",
       "    </tr>\n",
       "    <tr>\n",
       "      <th>631</th>\n",
       "      <td>Gen. 2:7</td>\n",
       "      <td>0.000269</td>\n",
       "      <td>632</td>\n",
       "    </tr>\n",
       "    <tr>\n",
       "      <th>671</th>\n",
       "      <td>Gen. 1:26</td>\n",
       "      <td>0.000255</td>\n",
       "      <td>672</td>\n",
       "    </tr>\n",
       "    <tr>\n",
       "      <th>681</th>\n",
       "      <td>Moses 1:39</td>\n",
       "      <td>0.000252</td>\n",
       "      <td>682</td>\n",
       "    </tr>\n",
       "    <tr>\n",
       "      <th>686</th>\n",
       "      <td>Moses 1:6</td>\n",
       "      <td>0.000251</td>\n",
       "      <td>687</td>\n",
       "    </tr>\n",
       "    <tr>\n",
       "      <th>700</th>\n",
       "      <td>D&amp;C 76:24</td>\n",
       "      <td>0.000247</td>\n",
       "      <td>701</td>\n",
       "    </tr>\n",
       "    <tr>\n",
       "      <th>746</th>\n",
       "      <td>Mosiah 3:19</td>\n",
       "      <td>0.000236</td>\n",
       "      <td>747</td>\n",
       "    </tr>\n",
       "    <tr>\n",
       "      <th>757</th>\n",
       "      <td>Mosiah 15:2</td>\n",
       "      <td>0.000233</td>\n",
       "      <td>758</td>\n",
       "    </tr>\n",
       "  </tbody>\n",
       "</table>\n",
       "</div>"
      ],
      "text/plain": [
       "             key     score  rank\n",
       "500  1 Ne. 19:10  0.000318   501\n",
       "540   Moses 6:57  0.000299   541\n",
       "555  2 Ne. 26:12  0.000296   556\n",
       "631     Gen. 2:7  0.000269   632\n",
       "671    Gen. 1:26  0.000255   672\n",
       "681   Moses 1:39  0.000252   682\n",
       "686    Moses 1:6  0.000251   687\n",
       "700    D&C 76:24  0.000247   701\n",
       "746  Mosiah 3:19  0.000236   747\n",
       "757  Mosiah 15:2  0.000233   758"
      ]
     },
     "execution_count": 32,
     "metadata": {},
     "output_type": "execute_result"
    }
   ],
   "source": [
    "hub_df[~hub_df.key.str.startswith(('TG', 'IttTC'))].head(10)"
   ]
  },
  {
   "cell_type": "code",
   "execution_count": 33,
   "metadata": {},
   "outputs": [
    {
     "data": {
      "text/html": [
       "<div>\n",
       "<style scoped>\n",
       "    .dataframe tbody tr th:only-of-type {\n",
       "        vertical-align: middle;\n",
       "    }\n",
       "\n",
       "    .dataframe tbody tr th {\n",
       "        vertical-align: top;\n",
       "    }\n",
       "\n",
       "    .dataframe thead th {\n",
       "        text-align: right;\n",
       "    }\n",
       "</style>\n",
       "<table border=\"1\" class=\"dataframe\">\n",
       "  <thead>\n",
       "    <tr style=\"text-align: right;\">\n",
       "      <th></th>\n",
       "      <th>key</th>\n",
       "      <th>score</th>\n",
       "      <th>rank</th>\n",
       "    </tr>\n",
       "  </thead>\n",
       "  <tbody>\n",
       "    <tr>\n",
       "      <th>0</th>\n",
       "      <td>2 Ne. 31:21</td>\n",
       "      <td>0.000731</td>\n",
       "      <td>1</td>\n",
       "    </tr>\n",
       "    <tr>\n",
       "      <th>1</th>\n",
       "      <td>Moses 6:57</td>\n",
       "      <td>0.000727</td>\n",
       "      <td>2</td>\n",
       "    </tr>\n",
       "    <tr>\n",
       "      <th>2</th>\n",
       "      <td>Isa. 9:6</td>\n",
       "      <td>0.000721</td>\n",
       "      <td>3</td>\n",
       "    </tr>\n",
       "    <tr>\n",
       "      <th>3</th>\n",
       "      <td>D&amp;C 68:25</td>\n",
       "      <td>0.000711</td>\n",
       "      <td>4</td>\n",
       "    </tr>\n",
       "    <tr>\n",
       "      <th>4</th>\n",
       "      <td>Moro. 10:4</td>\n",
       "      <td>0.000699</td>\n",
       "      <td>5</td>\n",
       "    </tr>\n",
       "    <tr>\n",
       "      <th>5</th>\n",
       "      <td>Jacob 4:5</td>\n",
       "      <td>0.000688</td>\n",
       "      <td>6</td>\n",
       "    </tr>\n",
       "    <tr>\n",
       "      <th>6</th>\n",
       "      <td>2 Ne. 19:6</td>\n",
       "      <td>0.000676</td>\n",
       "      <td>7</td>\n",
       "    </tr>\n",
       "    <tr>\n",
       "      <th>7</th>\n",
       "      <td>D&amp;C 13:1</td>\n",
       "      <td>0.000625</td>\n",
       "      <td>8</td>\n",
       "    </tr>\n",
       "    <tr>\n",
       "      <th>8</th>\n",
       "      <td>TG Repent, Repentance</td>\n",
       "      <td>0.000613</td>\n",
       "      <td>9</td>\n",
       "    </tr>\n",
       "    <tr>\n",
       "      <th>9</th>\n",
       "      <td>Moses 6:59</td>\n",
       "      <td>0.000605</td>\n",
       "      <td>10</td>\n",
       "    </tr>\n",
       "  </tbody>\n",
       "</table>\n",
       "</div>"
      ],
      "text/plain": [
       "                     key     score  rank\n",
       "0            2 Ne. 31:21  0.000731     1\n",
       "1             Moses 6:57  0.000727     2\n",
       "2               Isa. 9:6  0.000721     3\n",
       "3              D&C 68:25  0.000711     4\n",
       "4             Moro. 10:4  0.000699     5\n",
       "5              Jacob 4:5  0.000688     6\n",
       "6             2 Ne. 19:6  0.000676     7\n",
       "7               D&C 13:1  0.000625     8\n",
       "8  TG Repent, Repentance  0.000613     9\n",
       "9             Moses 6:59  0.000605    10"
      ]
     },
     "execution_count": 33,
     "metadata": {},
     "output_type": "execute_result"
    }
   ],
   "source": [
    "authority_df = notebook_lib.assign_ranks(authorities)\n",
    "authority_df.head(10)"
   ]
  },
  {
   "cell_type": "code",
   "execution_count": 34,
   "metadata": {},
   "outputs": [
    {
     "data": {
      "text/html": [
       "<div>\n",
       "<style scoped>\n",
       "    .dataframe tbody tr th:only-of-type {\n",
       "        vertical-align: middle;\n",
       "    }\n",
       "\n",
       "    .dataframe tbody tr th {\n",
       "        vertical-align: top;\n",
       "    }\n",
       "\n",
       "    .dataframe thead th {\n",
       "        text-align: right;\n",
       "    }\n",
       "</style>\n",
       "<table border=\"1\" class=\"dataframe\">\n",
       "  <thead>\n",
       "    <tr style=\"text-align: right;\">\n",
       "      <th></th>\n",
       "      <th>key</th>\n",
       "      <th>score</th>\n",
       "      <th>rank</th>\n",
       "    </tr>\n",
       "  </thead>\n",
       "  <tbody>\n",
       "    <tr>\n",
       "      <th>8</th>\n",
       "      <td>TG Repent, Repentance</td>\n",
       "      <td>0.000613</td>\n",
       "      <td>9</td>\n",
       "    </tr>\n",
       "    <tr>\n",
       "      <th>11</th>\n",
       "      <td>TG Obedience, Obedient, Obey</td>\n",
       "      <td>0.000569</td>\n",
       "      <td>12</td>\n",
       "    </tr>\n",
       "    <tr>\n",
       "      <th>13</th>\n",
       "      <td>TG Prayer, Pray</td>\n",
       "      <td>0.000557</td>\n",
       "      <td>14</td>\n",
       "    </tr>\n",
       "    <tr>\n",
       "      <th>14</th>\n",
       "      <td>TG Redemption</td>\n",
       "      <td>0.000552</td>\n",
       "      <td>15</td>\n",
       "    </tr>\n",
       "    <tr>\n",
       "      <th>16</th>\n",
       "      <td>TG Baptism, Essential</td>\n",
       "      <td>0.000549</td>\n",
       "      <td>17</td>\n",
       "    </tr>\n",
       "    <tr>\n",
       "      <th>18</th>\n",
       "      <td>IttTC Faith</td>\n",
       "      <td>0.000538</td>\n",
       "      <td>19</td>\n",
       "    </tr>\n",
       "    <tr>\n",
       "      <th>21</th>\n",
       "      <td>TG Forgive, Forgiveness</td>\n",
       "      <td>0.000516</td>\n",
       "      <td>22</td>\n",
       "    </tr>\n",
       "    <tr>\n",
       "      <th>25</th>\n",
       "      <td>TG Mercy, Merciful</td>\n",
       "      <td>0.000472</td>\n",
       "      <td>26</td>\n",
       "    </tr>\n",
       "    <tr>\n",
       "      <th>35</th>\n",
       "      <td>TG Creation, Create</td>\n",
       "      <td>0.000439</td>\n",
       "      <td>36</td>\n",
       "    </tr>\n",
       "    <tr>\n",
       "      <th>49</th>\n",
       "      <td>TG Sin</td>\n",
       "      <td>0.000409</td>\n",
       "      <td>50</td>\n",
       "    </tr>\n",
       "  </tbody>\n",
       "</table>\n",
       "</div>"
      ],
      "text/plain": [
       "                             key     score  rank\n",
       "8          TG Repent, Repentance  0.000613     9\n",
       "11  TG Obedience, Obedient, Obey  0.000569    12\n",
       "13               TG Prayer, Pray  0.000557    14\n",
       "14                 TG Redemption  0.000552    15\n",
       "16         TG Baptism, Essential  0.000549    17\n",
       "18                   IttTC Faith  0.000538    19\n",
       "21       TG Forgive, Forgiveness  0.000516    22\n",
       "25            TG Mercy, Merciful  0.000472    26\n",
       "35           TG Creation, Create  0.000439    36\n",
       "49                        TG Sin  0.000409    50"
      ]
     },
     "execution_count": 34,
     "metadata": {},
     "output_type": "execute_result"
    }
   ],
   "source": [
    "authority_df[authority_df.key.str.startswith(('TG', 'IttTC'))].head(10)"
   ]
  },
  {
   "cell_type": "code",
   "execution_count": null,
   "metadata": {},
   "outputs": [],
   "source": []
  }
 ],
 "metadata": {
  "kernelspec": {
   "display_name": "Python 3",
   "language": "python",
   "name": "python3"
  },
  "language_info": {
   "codemirror_mode": {
    "name": "ipython",
    "version": 3
   },
   "file_extension": ".py",
   "mimetype": "text/x-python",
   "name": "python",
   "nbconvert_exporter": "python",
   "pygments_lexer": "ipython3",
   "version": "3.8.5"
  }
 },
 "nbformat": 4,
 "nbformat_minor": 4
}
