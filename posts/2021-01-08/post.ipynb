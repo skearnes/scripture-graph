{
 "cells": [
  {
   "cell_type": "code",
   "execution_count": 12,
   "metadata": {},
   "outputs": [
    {
     "name": "stdout",
     "output_type": "stream",
     "text": [
      "Populating the interactive namespace from numpy and matplotlib\n"
     ]
    },
    {
     "name": "stderr",
     "output_type": "stream",
     "text": [
      "/Users/kearnes/miniconda3/lib/python3.8/site-packages/IPython/core/magics/pylab.py:159: UserWarning: pylab import has clobbered these variables: ['source']\n",
      "`%matplotlib` prevents importing * from pylab and numpy\n",
      "  warn(\"pylab import has clobbered these variables: %s\"  % clobbered +\n"
     ]
    }
   ],
   "source": [
    "import collections\n",
    "import dataclasses\n",
    "\n",
    "import networkx as nx\n",
    "import numpy as np\n",
    "import pandas as pd\n",
    "import scipy.stats\n",
    "import seaborn as sns\n",
    "\n",
    "from scripture_graph import graph_lib\n",
    "from scripture_graph import notebook_lib\n",
    "\n",
    "%pylab inline"
   ]
  },
  {
   "cell_type": "code",
   "execution_count": 28,
   "metadata": {},
   "outputs": [
    {
     "name": "stdout",
     "output_type": "stream",
     "text": [
      "Name: \n",
      "Type: DiGraph\n",
      "Number of nodes: 48566\n",
      "Number of edges: 166449\n",
      "Average in degree:   3.4273\n",
      "Average out degree:   3.4273\n"
     ]
    }
   ],
   "source": [
    "graph = nx.read_graphml('../../scripture_graph.graphml')\n",
    "print(nx.info(graph))"
   ]
  },
  {
   "cell_type": "code",
   "execution_count": 29,
   "metadata": {},
   "outputs": [
    {
     "name": "stdout",
     "output_type": "stream",
     "text": [
      "48566 166449\n",
      "41995 45985\n"
     ]
    }
   ],
   "source": [
    "# Make a copy without the topic nodes.\n",
    "original_graph = graph.copy()\n",
    "\n",
    "# Drop topic nodes/references.\n",
    "print(original_graph.number_of_nodes(), original_graph.number_of_edges())\n",
    "drop = set()\n",
    "for node in original_graph.nodes:\n",
    "    if original_graph.nodes[node]['kind'] == 'topic':\n",
    "        drop.add(node)\n",
    "for node in drop:\n",
    "    original_graph.remove_node(node)\n",
    "print(original_graph.number_of_nodes(), original_graph.number_of_edges())"
   ]
  },
  {
   "cell_type": "code",
   "execution_count": 14,
   "metadata": {},
   "outputs": [
    {
     "name": "stdout",
     "output_type": "stream",
     "text": [
      "(6571, 5)\n"
     ]
    },
    {
     "data": {
      "text/html": [
       "<div>\n",
       "<style scoped>\n",
       "    .dataframe tbody tr th:only-of-type {\n",
       "        vertical-align: middle;\n",
       "    }\n",
       "\n",
       "    .dataframe tbody tr th {\n",
       "        vertical-align: top;\n",
       "    }\n",
       "\n",
       "    .dataframe thead th {\n",
       "        text-align: right;\n",
       "    }\n",
       "</style>\n",
       "<table border=\"1\" class=\"dataframe\">\n",
       "  <thead>\n",
       "    <tr style=\"text-align: right;\">\n",
       "      <th></th>\n",
       "      <th>kind</th>\n",
       "      <th>volume</th>\n",
       "      <th>source</th>\n",
       "      <th>title</th>\n",
       "      <th>key</th>\n",
       "    </tr>\n",
       "  </thead>\n",
       "  <tbody>\n",
       "    <tr>\n",
       "      <th>0</th>\n",
       "      <td>topic</td>\n",
       "      <td>Study Helps</td>\n",
       "      <td>TG</td>\n",
       "      <td>Aaron</td>\n",
       "      <td>TG Aaron</td>\n",
       "    </tr>\n",
       "    <tr>\n",
       "      <th>1</th>\n",
       "      <td>topic</td>\n",
       "      <td>Study Helps</td>\n",
       "      <td>TG</td>\n",
       "      <td>Aaron, Descendants of</td>\n",
       "      <td>TG Aaron, Descendants of</td>\n",
       "    </tr>\n",
       "    <tr>\n",
       "      <th>2</th>\n",
       "      <td>topic</td>\n",
       "      <td>Study Helps</td>\n",
       "      <td>TG</td>\n",
       "      <td>Aaronic Priesthood</td>\n",
       "      <td>TG Aaronic Priesthood</td>\n",
       "    </tr>\n",
       "    <tr>\n",
       "      <th>3</th>\n",
       "      <td>topic</td>\n",
       "      <td>Study Helps</td>\n",
       "      <td>TG</td>\n",
       "      <td>Abarim</td>\n",
       "      <td>TG Abarim</td>\n",
       "    </tr>\n",
       "    <tr>\n",
       "      <th>4</th>\n",
       "      <td>topic</td>\n",
       "      <td>Study Helps</td>\n",
       "      <td>TG</td>\n",
       "      <td>Abase</td>\n",
       "      <td>TG Abase</td>\n",
       "    </tr>\n",
       "  </tbody>\n",
       "</table>\n",
       "</div>"
      ],
      "text/plain": [
       "    kind       volume source                  title                       key\n",
       "0  topic  Study Helps     TG                  Aaron                  TG Aaron\n",
       "1  topic  Study Helps     TG  Aaron, Descendants of  TG Aaron, Descendants of\n",
       "2  topic  Study Helps     TG     Aaronic Priesthood     TG Aaronic Priesthood\n",
       "3  topic  Study Helps     TG                 Abarim                 TG Abarim\n",
       "4  topic  Study Helps     TG                  Abase                  TG Abase"
      ]
     },
     "execution_count": 14,
     "metadata": {},
     "output_type": "execute_result"
    }
   ],
   "source": [
    "rows = []\n",
    "for node in graph.nodes:\n",
    "    if graph.nodes[node]['kind'] == 'topic':\n",
    "        row = graph.nodes[node]\n",
    "        row['key'] = node\n",
    "        rows.append(row)\n",
    "topics = pd.DataFrame(rows)\n",
    "print(topics.shape)\n",
    "topics.head()"
   ]
  },
  {
   "cell_type": "code",
   "execution_count": 25,
   "metadata": {},
   "outputs": [
    {
     "data": {
      "text/plain": [
       "TG       3512\n",
       "IttTC    3059\n",
       "Name: source, dtype: int64"
      ]
     },
     "execution_count": 25,
     "metadata": {},
     "output_type": "execute_result"
    }
   ],
   "source": [
    "topics.source.value_counts()"
   ]
  },
  {
   "cell_type": "code",
   "execution_count": 26,
   "metadata": {},
   "outputs": [
    {
     "data": {
      "text/plain": [
       "41995"
      ]
     },
     "execution_count": 26,
     "metadata": {},
     "output_type": "execute_result"
    }
   ],
   "source": [
    "graph.number_of_nodes() - len(topics)"
   ]
  },
  {
   "cell_type": "code",
   "execution_count": 15,
   "metadata": {},
   "outputs": [
    {
     "name": "stdout",
     "output_type": "stream",
     "text": [
      "(166449, 18)\n"
     ]
    },
    {
     "data": {
      "text/html": [
       "<div>\n",
       "<style scoped>\n",
       "    .dataframe tbody tr th:only-of-type {\n",
       "        vertical-align: middle;\n",
       "    }\n",
       "\n",
       "    .dataframe tbody tr th {\n",
       "        vertical-align: top;\n",
       "    }\n",
       "\n",
       "    .dataframe thead th {\n",
       "        text-align: right;\n",
       "    }\n",
       "</style>\n",
       "<table border=\"1\" class=\"dataframe\">\n",
       "  <thead>\n",
       "    <tr style=\"text-align: right;\">\n",
       "      <th></th>\n",
       "      <th>source</th>\n",
       "      <th>target</th>\n",
       "      <th>source_kind</th>\n",
       "      <th>source_volume</th>\n",
       "      <th>source_book</th>\n",
       "      <th>source_chapter</th>\n",
       "      <th>source_verse</th>\n",
       "      <th>target_kind</th>\n",
       "      <th>target_volume</th>\n",
       "      <th>target_source</th>\n",
       "      <th>target_title</th>\n",
       "      <th>target_key</th>\n",
       "      <th>target_book</th>\n",
       "      <th>target_chapter</th>\n",
       "      <th>target_verse</th>\n",
       "      <th>source_source</th>\n",
       "      <th>source_title</th>\n",
       "      <th>source_key</th>\n",
       "    </tr>\n",
       "  </thead>\n",
       "  <tbody>\n",
       "    <tr>\n",
       "      <th>0</th>\n",
       "      <td>1 Chr. 1:1</td>\n",
       "      <td>TG Adam</td>\n",
       "      <td>verse</td>\n",
       "      <td>Old Testament</td>\n",
       "      <td>1 Chr.</td>\n",
       "      <td>1.0</td>\n",
       "      <td>1.0</td>\n",
       "      <td>topic</td>\n",
       "      <td>Study Helps</td>\n",
       "      <td>TG</td>\n",
       "      <td>Adam</td>\n",
       "      <td>TG Adam</td>\n",
       "      <td>NaN</td>\n",
       "      <td>NaN</td>\n",
       "      <td>NaN</td>\n",
       "      <td>NaN</td>\n",
       "      <td>NaN</td>\n",
       "      <td>NaN</td>\n",
       "    </tr>\n",
       "    <tr>\n",
       "      <th>1</th>\n",
       "      <td>1 Chr. 1:3</td>\n",
       "      <td>Moses 8:2</td>\n",
       "      <td>verse</td>\n",
       "      <td>Old Testament</td>\n",
       "      <td>1 Chr.</td>\n",
       "      <td>1.0</td>\n",
       "      <td>3.0</td>\n",
       "      <td>verse</td>\n",
       "      <td>Pearl of Great Price</td>\n",
       "      <td>NaN</td>\n",
       "      <td>NaN</td>\n",
       "      <td>NaN</td>\n",
       "      <td>Moses</td>\n",
       "      <td>8.0</td>\n",
       "      <td>2.0</td>\n",
       "      <td>NaN</td>\n",
       "      <td>NaN</td>\n",
       "      <td>NaN</td>\n",
       "    </tr>\n",
       "    <tr>\n",
       "      <th>2</th>\n",
       "      <td>1 Chr. 1:4</td>\n",
       "      <td>Moses 8:12</td>\n",
       "      <td>verse</td>\n",
       "      <td>Old Testament</td>\n",
       "      <td>1 Chr.</td>\n",
       "      <td>1.0</td>\n",
       "      <td>4.0</td>\n",
       "      <td>verse</td>\n",
       "      <td>Pearl of Great Price</td>\n",
       "      <td>NaN</td>\n",
       "      <td>NaN</td>\n",
       "      <td>NaN</td>\n",
       "      <td>Moses</td>\n",
       "      <td>8.0</td>\n",
       "      <td>12.0</td>\n",
       "      <td>NaN</td>\n",
       "      <td>NaN</td>\n",
       "      <td>NaN</td>\n",
       "    </tr>\n",
       "    <tr>\n",
       "      <th>3</th>\n",
       "      <td>1 Chr. 1:7</td>\n",
       "      <td>Gen. 10:4</td>\n",
       "      <td>verse</td>\n",
       "      <td>Old Testament</td>\n",
       "      <td>1 Chr.</td>\n",
       "      <td>1.0</td>\n",
       "      <td>7.0</td>\n",
       "      <td>verse</td>\n",
       "      <td>Old Testament</td>\n",
       "      <td>NaN</td>\n",
       "      <td>NaN</td>\n",
       "      <td>NaN</td>\n",
       "      <td>Gen.</td>\n",
       "      <td>10.0</td>\n",
       "      <td>4.0</td>\n",
       "      <td>NaN</td>\n",
       "      <td>NaN</td>\n",
       "      <td>NaN</td>\n",
       "    </tr>\n",
       "    <tr>\n",
       "      <th>4</th>\n",
       "      <td>1 Chr. 1:8</td>\n",
       "      <td>Gen. 10:6</td>\n",
       "      <td>verse</td>\n",
       "      <td>Old Testament</td>\n",
       "      <td>1 Chr.</td>\n",
       "      <td>1.0</td>\n",
       "      <td>8.0</td>\n",
       "      <td>verse</td>\n",
       "      <td>Old Testament</td>\n",
       "      <td>NaN</td>\n",
       "      <td>NaN</td>\n",
       "      <td>NaN</td>\n",
       "      <td>Gen.</td>\n",
       "      <td>10.0</td>\n",
       "      <td>6.0</td>\n",
       "      <td>NaN</td>\n",
       "      <td>NaN</td>\n",
       "      <td>NaN</td>\n",
       "    </tr>\n",
       "  </tbody>\n",
       "</table>\n",
       "</div>"
      ],
      "text/plain": [
       "       source      target source_kind  source_volume source_book  \\\n",
       "0  1 Chr. 1:1     TG Adam       verse  Old Testament      1 Chr.   \n",
       "1  1 Chr. 1:3   Moses 8:2       verse  Old Testament      1 Chr.   \n",
       "2  1 Chr. 1:4  Moses 8:12       verse  Old Testament      1 Chr.   \n",
       "3  1 Chr. 1:7   Gen. 10:4       verse  Old Testament      1 Chr.   \n",
       "4  1 Chr. 1:8   Gen. 10:6       verse  Old Testament      1 Chr.   \n",
       "\n",
       "   source_chapter  source_verse target_kind         target_volume  \\\n",
       "0             1.0           1.0       topic           Study Helps   \n",
       "1             1.0           3.0       verse  Pearl of Great Price   \n",
       "2             1.0           4.0       verse  Pearl of Great Price   \n",
       "3             1.0           7.0       verse         Old Testament   \n",
       "4             1.0           8.0       verse         Old Testament   \n",
       "\n",
       "  target_source target_title target_key target_book  target_chapter  \\\n",
       "0            TG         Adam    TG Adam         NaN             NaN   \n",
       "1           NaN          NaN        NaN       Moses             8.0   \n",
       "2           NaN          NaN        NaN       Moses             8.0   \n",
       "3           NaN          NaN        NaN        Gen.            10.0   \n",
       "4           NaN          NaN        NaN        Gen.            10.0   \n",
       "\n",
       "   target_verse source_source source_title source_key  \n",
       "0           NaN           NaN          NaN        NaN  \n",
       "1           2.0           NaN          NaN        NaN  \n",
       "2          12.0           NaN          NaN        NaN  \n",
       "3           4.0           NaN          NaN        NaN  \n",
       "4           6.0           NaN          NaN        NaN  "
      ]
     },
     "execution_count": 15,
     "metadata": {},
     "output_type": "execute_result"
    }
   ],
   "source": [
    "rows = []\n",
    "for source, target in graph.edges:\n",
    "    row = {'source': source, 'target': target}\n",
    "    row.update({f'source_{key}': value for key, value in graph.nodes[source].items()})\n",
    "    row.update({f'target_{key}': value for key, value in graph.nodes[target].items()})\n",
    "    rows.append(row)\n",
    "edges = pd.DataFrame(rows)\n",
    "print(edges.shape)\n",
    "edges.head()"
   ]
  },
  {
   "cell_type": "code",
   "execution_count": 16,
   "metadata": {},
   "outputs": [
    {
     "name": "stdout",
     "output_type": "stream",
     "text": [
      "topic->verse 98241\n",
      "verse->topic 22223\n",
      "verse->verse 45985\n"
     ]
    }
   ],
   "source": [
    "topic_topic = (edges.source_kind == 'topic') & (edges.target_kind == 'topic')\n",
    "topic_verse = (edges.source_kind == 'topic')\n",
    "verse_topic = (edges.target_kind == 'topic')\n",
    "verse_verse = (edges.source_kind == 'verse') & (edges.target_kind == 'verse')\n",
    "\n",
    "assert topic_topic.sum() == 0\n",
    "assert topic_verse.sum() + verse_topic.sum() + verse_verse.sum() == graph.number_of_edges()\n",
    "print('topic->verse', topic_verse.sum())\n",
    "print('verse->topic', verse_topic.sum())\n",
    "print('verse->verse', verse_verse.sum())"
   ]
  },
  {
   "cell_type": "markdown",
   "metadata": {},
   "source": [
    "# Repeat previous analysis"
   ]
  },
  {
   "cell_type": "code",
   "execution_count": 31,
   "metadata": {},
   "outputs": [
    {
     "name": "stdout",
     "output_type": "stream",
     "text": [
      "(83990, 8)\n"
     ]
    },
    {
     "data": {
      "text/html": [
       "<div>\n",
       "<style scoped>\n",
       "    .dataframe tbody tr th:only-of-type {\n",
       "        vertical-align: middle;\n",
       "    }\n",
       "\n",
       "    .dataframe tbody tr th {\n",
       "        vertical-align: top;\n",
       "    }\n",
       "\n",
       "    .dataframe thead th {\n",
       "        text-align: right;\n",
       "    }\n",
       "</style>\n",
       "<table border=\"1\" class=\"dataframe\">\n",
       "  <thead>\n",
       "    <tr style=\"text-align: right;\">\n",
       "      <th></th>\n",
       "      <th>node</th>\n",
       "      <th>degree</th>\n",
       "      <th>subset</th>\n",
       "      <th>kind</th>\n",
       "      <th>volume</th>\n",
       "      <th>book</th>\n",
       "      <th>chapter</th>\n",
       "      <th>verse</th>\n",
       "    </tr>\n",
       "  </thead>\n",
       "  <tbody>\n",
       "    <tr>\n",
       "      <th>0</th>\n",
       "      <td>1 Chr. 1:1</td>\n",
       "      <td>0</td>\n",
       "      <td>with_topics</td>\n",
       "      <td>verse</td>\n",
       "      <td>Old Testament</td>\n",
       "      <td>1 Chr.</td>\n",
       "      <td>1</td>\n",
       "      <td>1</td>\n",
       "    </tr>\n",
       "    <tr>\n",
       "      <th>1</th>\n",
       "      <td>1 Chr. 1:1</td>\n",
       "      <td>0</td>\n",
       "      <td>without_topics</td>\n",
       "      <td>verse</td>\n",
       "      <td>Old Testament</td>\n",
       "      <td>1 Chr.</td>\n",
       "      <td>1</td>\n",
       "      <td>1</td>\n",
       "    </tr>\n",
       "    <tr>\n",
       "      <th>2</th>\n",
       "      <td>1 Chr. 1:2</td>\n",
       "      <td>0</td>\n",
       "      <td>with_topics</td>\n",
       "      <td>verse</td>\n",
       "      <td>Old Testament</td>\n",
       "      <td>1 Chr.</td>\n",
       "      <td>1</td>\n",
       "      <td>2</td>\n",
       "    </tr>\n",
       "    <tr>\n",
       "      <th>3</th>\n",
       "      <td>1 Chr. 1:2</td>\n",
       "      <td>0</td>\n",
       "      <td>without_topics</td>\n",
       "      <td>verse</td>\n",
       "      <td>Old Testament</td>\n",
       "      <td>1 Chr.</td>\n",
       "      <td>1</td>\n",
       "      <td>2</td>\n",
       "    </tr>\n",
       "    <tr>\n",
       "      <th>4</th>\n",
       "      <td>1 Chr. 1:3</td>\n",
       "      <td>0</td>\n",
       "      <td>with_topics</td>\n",
       "      <td>verse</td>\n",
       "      <td>Old Testament</td>\n",
       "      <td>1 Chr.</td>\n",
       "      <td>1</td>\n",
       "      <td>3</td>\n",
       "    </tr>\n",
       "  </tbody>\n",
       "</table>\n",
       "</div>"
      ],
      "text/plain": [
       "         node  degree          subset   kind         volume    book  chapter  \\\n",
       "0  1 Chr. 1:1       0     with_topics  verse  Old Testament  1 Chr.        1   \n",
       "1  1 Chr. 1:1       0  without_topics  verse  Old Testament  1 Chr.        1   \n",
       "2  1 Chr. 1:2       0     with_topics  verse  Old Testament  1 Chr.        1   \n",
       "3  1 Chr. 1:2       0  without_topics  verse  Old Testament  1 Chr.        1   \n",
       "4  1 Chr. 1:3       0     with_topics  verse  Old Testament  1 Chr.        1   \n",
       "\n",
       "   verse  \n",
       "0      1  \n",
       "1      1  \n",
       "2      2  \n",
       "3      2  \n",
       "4      3  "
      ]
     },
     "execution_count": 31,
     "metadata": {},
     "output_type": "execute_result"
    }
   ],
   "source": [
    "rows = []\n",
    "for node, degree in graph.in_degree():\n",
    "    if graph.nodes[node]['kind'] != 'verse':\n",
    "        continue\n",
    "    row = {'node': node, 'degree': degree, 'subset': 'with_topics'}\n",
    "    row.update(graph.nodes[node])\n",
    "    rows.append(row)\n",
    "    row = {'node': node, 'degree': original_graph.in_degree(node), 'subset': 'without_topics'}\n",
    "    row.update(graph.nodes[node])\n",
    "    rows.append(row)\n",
    "degree = pd.DataFrame(rows)\n",
    "print(degree.shape)\n",
    "degree.head()"
   ]
  },
  {
   "cell_type": "code",
   "execution_count": 34,
   "metadata": {},
   "outputs": [],
   "source": [
    "mask = (degree.subset == 'with_topics')"
   ]
  },
  {
   "cell_type": "code",
   "execution_count": 35,
   "metadata": {},
   "outputs": [
    {
     "data": {
      "text/plain": [
       "0.3124419573758781"
      ]
     },
     "execution_count": 35,
     "metadata": {},
     "output_type": "execute_result"
    }
   ],
   "source": [
    "alone = (degree[mask].degree == 0).sum()\n",
    "alone / len(degree[mask])"
   ]
  },
  {
   "cell_type": "code",
   "execution_count": 36,
   "metadata": {},
   "outputs": [
    {
     "data": {
      "text/plain": [
       "0.4808905822121681"
      ]
     },
     "execution_count": 36,
     "metadata": {},
     "output_type": "execute_result"
    }
   ],
   "source": [
    "count = (degree[mask].degree >= 1) & (degree[mask].degree <= 5)\n",
    "count.sum() / len(degree[mask])"
   ]
  },
  {
   "cell_type": "code",
   "execution_count": 44,
   "metadata": {},
   "outputs": [
    {
     "data": {
      "image/png": "[encoded data removed]",
      "text/plain": [
       "<Figure size 432x288 with 1 Axes>"
      ]
     },
     "metadata": {},
     "output_type": "display_data"
    }
   ],
   "source": [
    "sns.set_style('whitegrid')\n",
    "\n",
    "fig, ax = subplots()\n",
    "sns.ecdfplot(data=degree, x='degree', hue='subset', hue_order=['without_topics', 'with_topics'], ax=ax)\n",
    "suptitle('Cumulative Reference Counts')\n",
    "ax.set_xlabel('Number of References')\n",
    "ax.set_xlim(0, 28)\n",
    "fig.savefig('count-cdf.png', dpi=300, bbox_inches='tight')"
   ]
  },
  {
   "cell_type": "code",
   "execution_count": 65,
   "metadata": {},
   "outputs": [
    {
     "data": {
      "text/plain": [
       "defaultdict(int,\n",
       "            {'Old Testament': 23145,\n",
       "             'New Testament': 7957,\n",
       "             'Book of Mormon': 6604,\n",
       "             'Pearl of Great Price': 635,\n",
       "             'Doctrine and Covenants': 3654})"
      ]
     },
     "execution_count": 65,
     "metadata": {},
     "output_type": "execute_result"
    }
   ],
   "source": [
    "volume_totals = collections.defaultdict(int)\n",
    "for node in graph.nodes:\n",
    "    volume_totals[graph.nodes[node]['volume']] += 1\n",
    "del volume_totals['Study Helps']\n",
    "volume_totals"
   ]
  },
  {
   "cell_type": "code",
   "execution_count": 66,
   "metadata": {},
   "outputs": [
    {
     "data": {
      "text/plain": [
       "{'Old Testament': 17017,\n",
       " 'New Testament': 7260,\n",
       " 'Book of Mormon': 12278,\n",
       " 'Pearl of Great Price': 1435,\n",
       " 'Doctrine and Covenants': 7995}"
      ]
     },
     "execution_count": 66,
     "metadata": {},
     "output_type": "execute_result"
    }
   ],
   "source": [
    "volume_degree_without_topics = {}\n",
    "for key in volume_totals:\n",
    "    mask = (degree.subset == 'without_topics') & (degree.volume == key)\n",
    "    volume_degree_without_topics[key] = degree[mask].degree.values.sum()\n",
    "volume_degree_without_topics"
   ]
  },
  {
   "cell_type": "code",
   "execution_count": 67,
   "metadata": {},
   "outputs": [
    {
     "data": {
      "text/plain": [
       "{'Old Testament': 0.7352343918772953,\n",
       " 'New Testament': 0.9124041724267941,\n",
       " 'Book of Mormon': 1.8591762568140522,\n",
       " 'Pearl of Great Price': 2.2598425196850394,\n",
       " 'Doctrine and Covenants': 2.1880131362889985}"
      ]
     },
     "execution_count": 67,
     "metadata": {},
     "output_type": "execute_result"
    }
   ],
   "source": [
    "relative_volume_degree_without_topics = {}\n",
    "for key in volume_totals:\n",
    "    relative_volume_degree_without_topics[key] = volume_degree_without_topics[key] / volume_totals[key]\n",
    "relative_volume_degree_without_topics"
   ]
  },
  {
   "cell_type": "code",
   "execution_count": 68,
   "metadata": {},
   "outputs": [
    {
     "data": {
      "text/plain": [
       "{'Old Testament': 35840,\n",
       " 'New Testament': 28409,\n",
       " 'Book of Mormon': 43108,\n",
       " 'Pearl of Great Price': 5933,\n",
       " 'Doctrine and Covenants': 30936}"
      ]
     },
     "execution_count": 68,
     "metadata": {},
     "output_type": "execute_result"
    }
   ],
   "source": [
    "volume_degree_with_topics = {}\n",
    "for key in volume_totals:\n",
    "    mask = (degree.subset == 'with_topics') & (degree.volume == key)\n",
    "    volume_degree_with_topics[key] = degree[mask].degree.values.sum()\n",
    "volume_degree_with_topics"
   ]
  },
  {
   "cell_type": "code",
   "execution_count": 69,
   "metadata": {},
   "outputs": [
    {
     "data": {
      "text/plain": [
       "{'Old Testament': 1.54849859580903,\n",
       " 'New Testament': 3.570315445519668,\n",
       " 'Book of Mormon': 6.52755905511811,\n",
       " 'Pearl of Great Price': 9.343307086614173,\n",
       " 'Doctrine and Covenants': 8.466338259441708}"
      ]
     },
     "execution_count": 69,
     "metadata": {},
     "output_type": "execute_result"
    }
   ],
   "source": [
    "relative_volume_degree_with_topics = {}\n",
    "for key in volume_totals:\n",
    "    relative_volume_degree_with_topics[key] = volume_degree_with_topics[key] / volume_totals[key]\n",
    "relative_volume_degree_with_topics"
   ]
  },
  {
   "cell_type": "code",
   "execution_count": 70,
   "metadata": {},
   "outputs": [
    {
     "data": {
      "text/plain": [
       "{'Old Testament': 18823,\n",
       " 'New Testament': 21149,\n",
       " 'Book of Mormon': 30830,\n",
       " 'Pearl of Great Price': 4498,\n",
       " 'Doctrine and Covenants': 22941}"
      ]
     },
     "execution_count": 70,
     "metadata": {},
     "output_type": "execute_result"
    }
   ],
   "source": [
    "delta_degree = {}\n",
    "for key, value in volume_degree_with_topics.items():\n",
    "    delta_degree[key] = value - volume_degree_without_topics[key]\n",
    "delta_degree"
   ]
  },
  {
   "cell_type": "code",
   "execution_count": 71,
   "metadata": {},
   "outputs": [
    {
     "data": {
      "text/plain": [
       "{'Old Testament': 0.8132642039317347,\n",
       " 'New Testament': 2.657911273092874,\n",
       " 'Book of Mormon': 4.668382798304058,\n",
       " 'Pearl of Great Price': 7.083464566929134,\n",
       " 'Doctrine and Covenants': 6.278325123152709}"
      ]
     },
     "execution_count": 71,
     "metadata": {},
     "output_type": "execute_result"
    }
   ],
   "source": [
    "relative_delta_degree = {}\n",
    "for key, value in relative_volume_degree_with_topics.items():\n",
    "    relative_delta_degree[key] = value - relative_volume_degree_without_topics[key]\n",
    "relative_delta_degree"
   ]
  },
  {
   "cell_type": "code",
   "execution_count": 134,
   "metadata": {},
   "outputs": [
    {
     "data": {
      "image/png": "[encoded data removed]",
      "text/plain": [
       "<Figure size 504x360 with 2 Axes>"
      ]
     },
     "metadata": {},
     "output_type": "display_data"
    }
   ],
   "source": [
    "sns.set_style('white')\n",
    "colors = sns.color_palette()\n",
    "fig, ax = subplots(figsize=(7, 5))\n",
    "ax.bar(range(5), volume_degree_without_topics.values(), color=colors[0], label='absolute', width=-0.3, align='edge')\n",
    "ax.bar(range(5), delta_degree.values(), bottom=list(volume_degree_without_topics.values()), color=colors[2], label='absolute + topics', width=-0.3, align='edge')\n",
    "ax.set_ylabel('Absolute Counts', fontsize=14)\n",
    "ax2 = ax.twinx()\n",
    "ax2.bar(range(5), relative_volume_degree_without_topics.values(), color=colors[1], label='relative', width=0.3, align='edge')\n",
    "ax2.bar(range(5), relative_delta_degree.values(), bottom=list(relative_volume_degree_without_topics.values()), color=colors[3], label='relative + topics', width=0.3, align='edge')\n",
    "ax2.set_ylabel('Relative Counts', fontsize=14)\n",
    "ax.tick_params(axis='y', labelsize=12)\n",
    "ax2.tick_params(axis='y', labelsize=12)\n",
    "ax.set_xticks(range(5))\n",
    "ax.set_xticklabels([graph_lib.VOLUMES_SHORT[key] for key in volume_degree_without_topics], fontsize=12)\n",
    "figlegend(loc=(0.215, 0.665), fontsize=11)\n",
    "suptitle('Absolute and Relative Reference Counts', fontsize=16)\n",
    "fig.savefig('count-bar.png', dpi=300, bbox_inches='tight')"
   ]
  },
  {
   "cell_type": "markdown",
   "metadata": {},
   "source": [
    "# Get the largest subgraph"
   ]
  },
  {
   "cell_type": "code",
   "execution_count": 17,
   "metadata": {},
   "outputs": [
    {
     "data": {
      "text/html": [
       "<div>\n",
       "<style scoped>\n",
       "    .dataframe tbody tr th:only-of-type {\n",
       "        vertical-align: middle;\n",
       "    }\n",
       "\n",
       "    .dataframe tbody tr th {\n",
       "        vertical-align: top;\n",
       "    }\n",
       "\n",
       "    .dataframe thead th {\n",
       "        text-align: right;\n",
       "    }\n",
       "</style>\n",
       "<table border=\"1\" class=\"dataframe\">\n",
       "  <thead>\n",
       "    <tr style=\"text-align: right;\">\n",
       "      <th></th>\n",
       "      <th>size</th>\n",
       "      <th>count</th>\n",
       "    </tr>\n",
       "  </thead>\n",
       "  <tbody>\n",
       "    <tr>\n",
       "      <th>0</th>\n",
       "      <td>1</td>\n",
       "      <td>13598</td>\n",
       "    </tr>\n",
       "    <tr>\n",
       "      <th>1</th>\n",
       "      <td>2</td>\n",
       "      <td>293</td>\n",
       "    </tr>\n",
       "    <tr>\n",
       "      <th>2</th>\n",
       "      <td>3</td>\n",
       "      <td>61</td>\n",
       "    </tr>\n",
       "    <tr>\n",
       "      <th>3</th>\n",
       "      <td>4</td>\n",
       "      <td>14</td>\n",
       "    </tr>\n",
       "    <tr>\n",
       "      <th>4</th>\n",
       "      <td>5</td>\n",
       "      <td>7</td>\n",
       "    </tr>\n",
       "    <tr>\n",
       "      <th>5</th>\n",
       "      <td>6</td>\n",
       "      <td>1</td>\n",
       "    </tr>\n",
       "    <tr>\n",
       "      <th>6</th>\n",
       "      <td>7</td>\n",
       "      <td>2</td>\n",
       "    </tr>\n",
       "    <tr>\n",
       "      <th>7</th>\n",
       "      <td>11</td>\n",
       "      <td>2</td>\n",
       "    </tr>\n",
       "    <tr>\n",
       "      <th>8</th>\n",
       "      <td>34066</td>\n",
       "      <td>1</td>\n",
       "    </tr>\n",
       "  </tbody>\n",
       "</table>\n",
       "</div>"
      ],
      "text/plain": [
       "    size  count\n",
       "0      1  13598\n",
       "1      2    293\n",
       "2      3     61\n",
       "3      4     14\n",
       "4      5      7\n",
       "5      6      1\n",
       "6      7      2\n",
       "7     11      2\n",
       "8  34066      1"
      ]
     },
     "execution_count": 17,
     "metadata": {},
     "output_type": "execute_result"
    }
   ],
   "source": [
    "sizes = []\n",
    "for component in nx.weakly_connected_components(graph):\n",
    "    sizes.append(len(component))\n",
    "sizes = np.asarray(sizes)\n",
    "\n",
    "x = np.unique(sizes)\n",
    "y = np.asarray([np.count_nonzero(sizes == size) for size in x])\n",
    "df = pd.DataFrame({'size': x, 'count': y})\n",
    "df"
   ]
  },
  {
   "cell_type": "code",
   "execution_count": 18,
   "metadata": {},
   "outputs": [
    {
     "name": "stdout",
     "output_type": "stream",
     "text": [
      "48566\n",
      "166449\n",
      "34066\n",
      "165456\n"
     ]
    }
   ],
   "source": [
    "# Prune the graph to the largest weakly connected component.\n",
    "nodes = None\n",
    "for component in nx.weakly_connected_components(graph):\n",
    "    if len(component) > 1000:\n",
    "        nodes = component\n",
    "        break\n",
    "subgraph = nx.subgraph(graph, nodes)\n",
    "print(graph.number_of_nodes())\n",
    "print(graph.number_of_edges())\n",
    "print(subgraph.number_of_nodes())\n",
    "print(subgraph.number_of_edges())"
   ]
  },
  {
   "cell_type": "code",
   "execution_count": 20,
   "metadata": {},
   "outputs": [
    {
     "data": {
      "text/html": [
       "<div>\n",
       "<style scoped>\n",
       "    .dataframe tbody tr th:only-of-type {\n",
       "        vertical-align: middle;\n",
       "    }\n",
       "\n",
       "    .dataframe tbody tr th {\n",
       "        vertical-align: top;\n",
       "    }\n",
       "\n",
       "    .dataframe thead th {\n",
       "        text-align: right;\n",
       "    }\n",
       "</style>\n",
       "<table border=\"1\" class=\"dataframe\">\n",
       "  <thead>\n",
       "    <tr style=\"text-align: right;\">\n",
       "      <th></th>\n",
       "      <th>key</th>\n",
       "      <th>score</th>\n",
       "      <th>rank</th>\n",
       "    </tr>\n",
       "  </thead>\n",
       "  <tbody>\n",
       "    <tr>\n",
       "      <th>0</th>\n",
       "      <td>TG Faith</td>\n",
       "      <td>0.003699</td>\n",
       "      <td>1</td>\n",
       "    </tr>\n",
       "    <tr>\n",
       "      <th>1</th>\n",
       "      <td>TG Righteousness</td>\n",
       "      <td>0.003581</td>\n",
       "      <td>2</td>\n",
       "    </tr>\n",
       "    <tr>\n",
       "      <th>2</th>\n",
       "      <td>TG Jesus Christ, Prophecies about</td>\n",
       "      <td>0.003288</td>\n",
       "      <td>3</td>\n",
       "    </tr>\n",
       "    <tr>\n",
       "      <th>3</th>\n",
       "      <td>TG Prayer, Pray</td>\n",
       "      <td>0.003170</td>\n",
       "      <td>4</td>\n",
       "    </tr>\n",
       "    <tr>\n",
       "      <th>4</th>\n",
       "      <td>TG Repent, Repentance</td>\n",
       "      <td>0.003082</td>\n",
       "      <td>5</td>\n",
       "    </tr>\n",
       "    <tr>\n",
       "      <th>5</th>\n",
       "      <td>TG Treasure</td>\n",
       "      <td>0.002818</td>\n",
       "      <td>6</td>\n",
       "    </tr>\n",
       "    <tr>\n",
       "      <th>6</th>\n",
       "      <td>TG God, Spirit of</td>\n",
       "      <td>0.002701</td>\n",
       "      <td>7</td>\n",
       "    </tr>\n",
       "    <tr>\n",
       "      <th>7</th>\n",
       "      <td>TG Missionary Work</td>\n",
       "      <td>0.002671</td>\n",
       "      <td>8</td>\n",
       "    </tr>\n",
       "    <tr>\n",
       "      <th>8</th>\n",
       "      <td>TG Walking with God</td>\n",
       "      <td>0.002671</td>\n",
       "      <td>8</td>\n",
       "    </tr>\n",
       "    <tr>\n",
       "      <th>9</th>\n",
       "      <td>TG Grace</td>\n",
       "      <td>0.002642</td>\n",
       "      <td>10</td>\n",
       "    </tr>\n",
       "  </tbody>\n",
       "</table>\n",
       "</div>"
      ],
      "text/plain": [
       "                                 key     score  rank\n",
       "0                           TG Faith  0.003699     1\n",
       "1                   TG Righteousness  0.003581     2\n",
       "2  TG Jesus Christ, Prophecies about  0.003288     3\n",
       "3                    TG Prayer, Pray  0.003170     4\n",
       "4              TG Repent, Repentance  0.003082     5\n",
       "5                        TG Treasure  0.002818     6\n",
       "6                  TG God, Spirit of  0.002701     7\n",
       "7                 TG Missionary Work  0.002671     8\n",
       "8                TG Walking with God  0.002671     8\n",
       "9                           TG Grace  0.002642    10"
      ]
     },
     "execution_count": 20,
     "metadata": {},
     "output_type": "execute_result"
    }
   ],
   "source": [
    "degree_df = notebook_lib.assign_ranks(nx.in_degree_centrality(subgraph))\n",
    "degree_df.head(10)"
   ]
  },
  {
   "cell_type": "code",
   "execution_count": 21,
   "metadata": {},
   "outputs": [
    {
     "data": {
      "text/html": [
       "<div>\n",
       "<style scoped>\n",
       "    .dataframe tbody tr th:only-of-type {\n",
       "        vertical-align: middle;\n",
       "    }\n",
       "\n",
       "    .dataframe tbody tr th {\n",
       "        vertical-align: top;\n",
       "    }\n",
       "\n",
       "    .dataframe thead th {\n",
       "        text-align: right;\n",
       "    }\n",
       "</style>\n",
       "<table border=\"1\" class=\"dataframe\">\n",
       "  <thead>\n",
       "    <tr style=\"text-align: right;\">\n",
       "      <th></th>\n",
       "      <th>key</th>\n",
       "      <th>score</th>\n",
       "      <th>rank</th>\n",
       "    </tr>\n",
       "  </thead>\n",
       "  <tbody>\n",
       "    <tr>\n",
       "      <th>0</th>\n",
       "      <td>TG Faith</td>\n",
       "      <td>0.000925</td>\n",
       "      <td>1</td>\n",
       "    </tr>\n",
       "    <tr>\n",
       "      <th>1</th>\n",
       "      <td>TG Idolatry, Idol</td>\n",
       "      <td>0.000895</td>\n",
       "      <td>2</td>\n",
       "    </tr>\n",
       "    <tr>\n",
       "      <th>2</th>\n",
       "      <td>TG Righteousness</td>\n",
       "      <td>0.000889</td>\n",
       "      <td>3</td>\n",
       "    </tr>\n",
       "    <tr>\n",
       "      <th>3</th>\n",
       "      <td>TG Jesus Christ, Prophecies about</td>\n",
       "      <td>0.000867</td>\n",
       "      <td>4</td>\n",
       "    </tr>\n",
       "    <tr>\n",
       "      <th>4</th>\n",
       "      <td>TG Disobedience, Disobey</td>\n",
       "      <td>0.000849</td>\n",
       "      <td>5</td>\n",
       "    </tr>\n",
       "    <tr>\n",
       "      <th>5</th>\n",
       "      <td>TG Angels</td>\n",
       "      <td>0.000836</td>\n",
       "      <td>6</td>\n",
       "    </tr>\n",
       "    <tr>\n",
       "      <th>6</th>\n",
       "      <td>TG Treasure</td>\n",
       "      <td>0.000819</td>\n",
       "      <td>7</td>\n",
       "    </tr>\n",
       "    <tr>\n",
       "      <th>7</th>\n",
       "      <td>TG Prayer, Pray</td>\n",
       "      <td>0.000796</td>\n",
       "      <td>8</td>\n",
       "    </tr>\n",
       "    <tr>\n",
       "      <th>8</th>\n",
       "      <td>TG Grace</td>\n",
       "      <td>0.000776</td>\n",
       "      <td>9</td>\n",
       "    </tr>\n",
       "    <tr>\n",
       "      <th>9</th>\n",
       "      <td>TG Missionary Work</td>\n",
       "      <td>0.000759</td>\n",
       "      <td>10</td>\n",
       "    </tr>\n",
       "  </tbody>\n",
       "</table>\n",
       "</div>"
      ],
      "text/plain": [
       "                                 key     score  rank\n",
       "0                           TG Faith  0.000925     1\n",
       "1                  TG Idolatry, Idol  0.000895     2\n",
       "2                   TG Righteousness  0.000889     3\n",
       "3  TG Jesus Christ, Prophecies about  0.000867     4\n",
       "4           TG Disobedience, Disobey  0.000849     5\n",
       "5                          TG Angels  0.000836     6\n",
       "6                        TG Treasure  0.000819     7\n",
       "7                    TG Prayer, Pray  0.000796     8\n",
       "8                           TG Grace  0.000776     9\n",
       "9                 TG Missionary Work  0.000759    10"
      ]
     },
     "execution_count": 21,
     "metadata": {},
     "output_type": "execute_result"
    }
   ],
   "source": [
    "degree_df = notebook_lib.assign_ranks(nx.pagerank(subgraph))\n",
    "degree_df.head(10)"
   ]
  },
  {
   "cell_type": "code",
   "execution_count": 22,
   "metadata": {},
   "outputs": [],
   "source": [
    "hubs, authorities = nx.hits(subgraph, max_iter=1000)"
   ]
  },
  {
   "cell_type": "code",
   "execution_count": 23,
   "metadata": {},
   "outputs": [
    {
     "data": {
      "text/html": [
       "<div>\n",
       "<style scoped>\n",
       "    .dataframe tbody tr th:only-of-type {\n",
       "        vertical-align: middle;\n",
       "    }\n",
       "\n",
       "    .dataframe tbody tr th {\n",
       "        vertical-align: top;\n",
       "    }\n",
       "\n",
       "    .dataframe thead th {\n",
       "        text-align: right;\n",
       "    }\n",
       "</style>\n",
       "<table border=\"1\" class=\"dataframe\">\n",
       "  <thead>\n",
       "    <tr style=\"text-align: right;\">\n",
       "      <th></th>\n",
       "      <th>key</th>\n",
       "      <th>score</th>\n",
       "      <th>rank</th>\n",
       "    </tr>\n",
       "  </thead>\n",
       "  <tbody>\n",
       "    <tr>\n",
       "      <th>0</th>\n",
       "      <td>IttTC God</td>\n",
       "      <td>0.004928</td>\n",
       "      <td>1</td>\n",
       "    </tr>\n",
       "    <tr>\n",
       "      <th>1</th>\n",
       "      <td>IttTC Name of the Lord</td>\n",
       "      <td>0.004036</td>\n",
       "      <td>2</td>\n",
       "    </tr>\n",
       "    <tr>\n",
       "      <th>2</th>\n",
       "      <td>TG Spirit</td>\n",
       "      <td>0.003881</td>\n",
       "      <td>3</td>\n",
       "    </tr>\n",
       "    <tr>\n",
       "      <th>3</th>\n",
       "      <td>TG Know, Knew, Known</td>\n",
       "      <td>0.003669</td>\n",
       "      <td>4</td>\n",
       "    </tr>\n",
       "    <tr>\n",
       "      <th>4</th>\n",
       "      <td>IttTC Jesus Christ—Son of God</td>\n",
       "      <td>0.003669</td>\n",
       "      <td>5</td>\n",
       "    </tr>\n",
       "    <tr>\n",
       "      <th>5</th>\n",
       "      <td>IttTC Jesus Christ</td>\n",
       "      <td>0.003243</td>\n",
       "      <td>6</td>\n",
       "    </tr>\n",
       "    <tr>\n",
       "      <th>6</th>\n",
       "      <td>TG Name of the Lord</td>\n",
       "      <td>0.002890</td>\n",
       "      <td>7</td>\n",
       "    </tr>\n",
       "    <tr>\n",
       "      <th>7</th>\n",
       "      <td>TG Jesus Christ, Divine Sonship</td>\n",
       "      <td>0.002863</td>\n",
       "      <td>8</td>\n",
       "    </tr>\n",
       "    <tr>\n",
       "      <th>8</th>\n",
       "      <td>IttTC Spirit, Holy/Spirit of the Lord</td>\n",
       "      <td>0.002852</td>\n",
       "      <td>9</td>\n",
       "    </tr>\n",
       "    <tr>\n",
       "      <th>9</th>\n",
       "      <td>IttTC Repentance, Repent</td>\n",
       "      <td>0.002696</td>\n",
       "      <td>10</td>\n",
       "    </tr>\n",
       "  </tbody>\n",
       "</table>\n",
       "</div>"
      ],
      "text/plain": [
       "                                     key     score  rank\n",
       "0                              IttTC God  0.004928     1\n",
       "1                 IttTC Name of the Lord  0.004036     2\n",
       "2                              TG Spirit  0.003881     3\n",
       "3                   TG Know, Knew, Known  0.003669     4\n",
       "4          IttTC Jesus Christ—Son of God  0.003669     5\n",
       "5                     IttTC Jesus Christ  0.003243     6\n",
       "6                    TG Name of the Lord  0.002890     7\n",
       "7        TG Jesus Christ, Divine Sonship  0.002863     8\n",
       "8  IttTC Spirit, Holy/Spirit of the Lord  0.002852     9\n",
       "9               IttTC Repentance, Repent  0.002696    10"
      ]
     },
     "execution_count": 23,
     "metadata": {},
     "output_type": "execute_result"
    }
   ],
   "source": [
    "notebook_lib.assign_ranks(hubs).head(10)"
   ]
  },
  {
   "cell_type": "code",
   "execution_count": 24,
   "metadata": {},
   "outputs": [
    {
     "data": {
      "text/html": [
       "<div>\n",
       "<style scoped>\n",
       "    .dataframe tbody tr th:only-of-type {\n",
       "        vertical-align: middle;\n",
       "    }\n",
       "\n",
       "    .dataframe tbody tr th {\n",
       "        vertical-align: top;\n",
       "    }\n",
       "\n",
       "    .dataframe thead th {\n",
       "        text-align: right;\n",
       "    }\n",
       "</style>\n",
       "<table border=\"1\" class=\"dataframe\">\n",
       "  <thead>\n",
       "    <tr style=\"text-align: right;\">\n",
       "      <th></th>\n",
       "      <th>key</th>\n",
       "      <th>score</th>\n",
       "      <th>rank</th>\n",
       "    </tr>\n",
       "  </thead>\n",
       "  <tbody>\n",
       "    <tr>\n",
       "      <th>0</th>\n",
       "      <td>2 Ne. 31:21</td>\n",
       "      <td>0.000872</td>\n",
       "      <td>1</td>\n",
       "    </tr>\n",
       "    <tr>\n",
       "      <th>1</th>\n",
       "      <td>Isa. 9:6</td>\n",
       "      <td>0.000855</td>\n",
       "      <td>2</td>\n",
       "    </tr>\n",
       "    <tr>\n",
       "      <th>2</th>\n",
       "      <td>Jacob 4:5</td>\n",
       "      <td>0.000841</td>\n",
       "      <td>3</td>\n",
       "    </tr>\n",
       "    <tr>\n",
       "      <th>3</th>\n",
       "      <td>2 Ne. 19:6</td>\n",
       "      <td>0.000833</td>\n",
       "      <td>4</td>\n",
       "    </tr>\n",
       "    <tr>\n",
       "      <th>4</th>\n",
       "      <td>Moro. 10:4</td>\n",
       "      <td>0.000804</td>\n",
       "      <td>5</td>\n",
       "    </tr>\n",
       "    <tr>\n",
       "      <th>5</th>\n",
       "      <td>Moses 6:57</td>\n",
       "      <td>0.000795</td>\n",
       "      <td>6</td>\n",
       "    </tr>\n",
       "    <tr>\n",
       "      <th>6</th>\n",
       "      <td>D&amp;C 68:25</td>\n",
       "      <td>0.000761</td>\n",
       "      <td>7</td>\n",
       "    </tr>\n",
       "    <tr>\n",
       "      <th>7</th>\n",
       "      <td>D&amp;C 13:1</td>\n",
       "      <td>0.000729</td>\n",
       "      <td>8</td>\n",
       "    </tr>\n",
       "    <tr>\n",
       "      <th>8</th>\n",
       "      <td>JS—H 1:17</td>\n",
       "      <td>0.000688</td>\n",
       "      <td>9</td>\n",
       "    </tr>\n",
       "    <tr>\n",
       "      <th>9</th>\n",
       "      <td>D&amp;C 20:37</td>\n",
       "      <td>0.000688</td>\n",
       "      <td>10</td>\n",
       "    </tr>\n",
       "  </tbody>\n",
       "</table>\n",
       "</div>"
      ],
      "text/plain": [
       "           key     score  rank\n",
       "0  2 Ne. 31:21  0.000872     1\n",
       "1     Isa. 9:6  0.000855     2\n",
       "2    Jacob 4:5  0.000841     3\n",
       "3   2 Ne. 19:6  0.000833     4\n",
       "4   Moro. 10:4  0.000804     5\n",
       "5   Moses 6:57  0.000795     6\n",
       "6    D&C 68:25  0.000761     7\n",
       "7     D&C 13:1  0.000729     8\n",
       "8    JS—H 1:17  0.000688     9\n",
       "9    D&C 20:37  0.000688    10"
      ]
     },
     "execution_count": 24,
     "metadata": {},
     "output_type": "execute_result"
    }
   ],
   "source": [
    "notebook_lib.assign_ranks(authorities).head(10)"
   ]
  },
  {
   "cell_type": "code",
   "execution_count": null,
   "metadata": {},
   "outputs": [],
   "source": []
  }
 ],
 "metadata": {
  "kernelspec": {
   "display_name": "Python 3",
   "language": "python",
   "name": "python3"
  },
  "language_info": {
   "codemirror_mode": {
    "name": "ipython",
    "version": 3
   },
   "file_extension": ".py",
   "mimetype": "text/x-python",
   "name": "python",
   "nbconvert_exporter": "python",
   "pygments_lexer": "ipython3",
   "version": "3.8.5"
  }
 },
 "nbformat": 4,
 "nbformat_minor": 4
}
