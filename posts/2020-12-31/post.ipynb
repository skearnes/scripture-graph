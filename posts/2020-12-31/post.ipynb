{
 "cells": [
  {
   "cell_type": "code",
   "execution_count": 1,
   "metadata": {},
   "outputs": [
    {
     "name": "stdout",
     "output_type": "stream",
     "text": [
      "Populating the interactive namespace from numpy and matplotlib\n"
     ]
    }
   ],
   "source": [
    "import collections\n",
    "import dataclasses\n",
    "\n",
    "import networkx as nx\n",
    "import numpy as np\n",
    "import pandas as pd\n",
    "import scipy.stats\n",
    "import seaborn as sns\n",
    "\n",
    "from scripture_graph import graph_lib\n",
    "\n",
    "%pylab inline"
   ]
  },
  {
   "cell_type": "code",
   "execution_count": 2,
   "metadata": {},
   "outputs": [],
   "source": [
    "graph = nx.read_graphml('../../scripture_graph.graphml')"
   ]
  },
  {
   "cell_type": "code",
   "execution_count": 3,
   "metadata": {},
   "outputs": [
    {
     "data": {
      "text/plain": [
       "0.824880967981479"
      ]
     },
     "execution_count": 3,
     "metadata": {},
     "output_type": "execute_result"
    }
   ],
   "source": [
    "nx.reciprocity(graph)"
   ]
  },
  {
   "cell_type": "code",
   "execution_count": 4,
   "metadata": {},
   "outputs": [
    {
     "name": "stdout",
     "output_type": "stream",
     "text": [
      "Name: \n",
      "Type: DiGraph\n",
      "Number of nodes: 41995\n",
      "Number of edges: 45786\n",
      "Average in degree:   1.0903\n",
      "Average out degree:   1.0903\n"
     ]
    }
   ],
   "source": [
    "print(nx.info(graph))"
   ]
  },
  {
   "cell_type": "code",
   "execution_count": 5,
   "metadata": {},
   "outputs": [
    {
     "name": "stdout",
     "output_type": "stream",
     "text": [
      "24015\n",
      "26773\n"
     ]
    }
   ],
   "source": [
    "print(nx.number_weakly_connected_components(graph))\n",
    "print(nx.number_strongly_connected_components(graph))"
   ]
  },
  {
   "cell_type": "markdown",
   "metadata": {},
   "source": [
    "# Weakly Connected Components"
   ]
  },
  {
   "cell_type": "code",
   "execution_count": 6,
   "metadata": {},
   "outputs": [
    {
     "data": {
      "text/html": [
       "<div>\n",
       "<style scoped>\n",
       "    .dataframe tbody tr th:only-of-type {\n",
       "        vertical-align: middle;\n",
       "    }\n",
       "\n",
       "    .dataframe tbody tr th {\n",
       "        vertical-align: top;\n",
       "    }\n",
       "\n",
       "    .dataframe thead th {\n",
       "        text-align: right;\n",
       "    }\n",
       "</style>\n",
       "<table border=\"1\" class=\"dataframe\">\n",
       "  <thead>\n",
       "    <tr style=\"text-align: right;\">\n",
       "      <th></th>\n",
       "      <th>size</th>\n",
       "      <th>count</th>\n",
       "    </tr>\n",
       "  </thead>\n",
       "  <tbody>\n",
       "    <tr>\n",
       "      <th>0</th>\n",
       "      <td>1</td>\n",
       "      <td>22250</td>\n",
       "    </tr>\n",
       "    <tr>\n",
       "      <th>1</th>\n",
       "      <td>2</td>\n",
       "      <td>1161</td>\n",
       "    </tr>\n",
       "    <tr>\n",
       "      <th>2</th>\n",
       "      <td>3</td>\n",
       "      <td>342</td>\n",
       "    </tr>\n",
       "    <tr>\n",
       "      <th>3</th>\n",
       "      <td>4</td>\n",
       "      <td>124</td>\n",
       "    </tr>\n",
       "    <tr>\n",
       "      <th>4</th>\n",
       "      <td>5</td>\n",
       "      <td>64</td>\n",
       "    </tr>\n",
       "    <tr>\n",
       "      <th>5</th>\n",
       "      <td>6</td>\n",
       "      <td>23</td>\n",
       "    </tr>\n",
       "    <tr>\n",
       "      <th>6</th>\n",
       "      <td>7</td>\n",
       "      <td>12</td>\n",
       "    </tr>\n",
       "    <tr>\n",
       "      <th>7</th>\n",
       "      <td>8</td>\n",
       "      <td>15</td>\n",
       "    </tr>\n",
       "    <tr>\n",
       "      <th>8</th>\n",
       "      <td>9</td>\n",
       "      <td>7</td>\n",
       "    </tr>\n",
       "    <tr>\n",
       "      <th>9</th>\n",
       "      <td>10</td>\n",
       "      <td>7</td>\n",
       "    </tr>\n",
       "    <tr>\n",
       "      <th>10</th>\n",
       "      <td>11</td>\n",
       "      <td>3</td>\n",
       "    </tr>\n",
       "    <tr>\n",
       "      <th>11</th>\n",
       "      <td>12</td>\n",
       "      <td>1</td>\n",
       "    </tr>\n",
       "    <tr>\n",
       "      <th>12</th>\n",
       "      <td>13</td>\n",
       "      <td>2</td>\n",
       "    </tr>\n",
       "    <tr>\n",
       "      <th>13</th>\n",
       "      <td>14</td>\n",
       "      <td>2</td>\n",
       "    </tr>\n",
       "    <tr>\n",
       "      <th>14</th>\n",
       "      <td>19</td>\n",
       "      <td>1</td>\n",
       "    </tr>\n",
       "    <tr>\n",
       "      <th>15</th>\n",
       "      <td>14988</td>\n",
       "      <td>1</td>\n",
       "    </tr>\n",
       "  </tbody>\n",
       "</table>\n",
       "</div>"
      ],
      "text/plain": [
       "     size  count\n",
       "0       1  22250\n",
       "1       2   1161\n",
       "2       3    342\n",
       "3       4    124\n",
       "4       5     64\n",
       "5       6     23\n",
       "6       7     12\n",
       "7       8     15\n",
       "8       9      7\n",
       "9      10      7\n",
       "10     11      3\n",
       "11     12      1\n",
       "12     13      2\n",
       "13     14      2\n",
       "14     19      1\n",
       "15  14988      1"
      ]
     },
     "execution_count": 6,
     "metadata": {},
     "output_type": "execute_result"
    }
   ],
   "source": [
    "sizes = []\n",
    "for component in nx.weakly_connected_components(graph):\n",
    "    sizes.append(len(component))\n",
    "sizes = np.asarray(sizes)\n",
    "\n",
    "x = np.unique(sizes)\n",
    "y = np.asarray([np.count_nonzero(sizes == size) for size in x])\n",
    "df = pd.DataFrame({'size': x, 'count': y})\n",
    "df"
   ]
  },
  {
   "cell_type": "code",
   "execution_count": 7,
   "metadata": {},
   "outputs": [
    {
     "data": {
      "image/png": "[encoded data removed]",
      "text/plain": [
       "<Figure size 432x288 with 1 Axes>"
      ]
     },
     "metadata": {
      "needs_background": "light"
     },
     "output_type": "display_data"
    }
   ],
   "source": [
    "fig, ax = subplots()\n",
    "sns.histplot(sizes, log_scale=True, ax=ax)\n",
    "ax.set_yscale('log')\n",
    "ax.set_ylabel('Number of Components')\n",
    "ax.set_xlabel('Number of Nodes in the Component')\n",
    "fig.suptitle('Component Size Distribution')\n",
    "# Add an arrow.\n",
    "ax.arrow(0.925, 0.33, 0, -0.25, transform=ax.transAxes, head_width=0.03, color='red', length_includes_head=True)\n",
    "fig.savefig('component-size.png', dpi=300, bbox_inches='tight')"
   ]
  },
  {
   "cell_type": "code",
   "execution_count": 8,
   "metadata": {},
   "outputs": [
    {
     "name": "stdout",
     "output_type": "stream",
     "text": [
      "41995\n",
      "45786\n",
      "14988\n",
      "39816\n"
     ]
    }
   ],
   "source": [
    "# Prune the graph to the largest strongly connected component.\n",
    "# How many edges does it have?\n",
    "nodes = None\n",
    "for component in nx.weakly_connected_components(graph):\n",
    "    if len(component) > 1000:\n",
    "        nodes = component\n",
    "        break\n",
    "subgraph = nx.subgraph(graph, nodes)\n",
    "print(graph.number_of_nodes())\n",
    "print(graph.number_of_edges())\n",
    "print(subgraph.number_of_nodes())\n",
    "print(subgraph.number_of_edges())"
   ]
  },
  {
   "cell_type": "code",
   "execution_count": 9,
   "metadata": {},
   "outputs": [
    {
     "name": "stdout",
     "output_type": "stream",
     "text": [
      "22250 0.5298249791641862\n"
     ]
    }
   ],
   "source": [
    "# Percentage of singletons (no incoming *or* outgoing edges)\n",
    "count = 0\n",
    "for node, degree in graph.degree():\n",
    "    if degree == 0:\n",
    "        count += 1\n",
    "print(count, count / graph.number_of_nodes())"
   ]
  },
  {
   "cell_type": "code",
   "execution_count": 10,
   "metadata": {},
   "outputs": [
    {
     "data": {
      "text/plain": [
       "0.6736179775280899"
      ]
     },
     "execution_count": 10,
     "metadata": {},
     "output_type": "execute_result"
    }
   ],
   "source": [
    "# Percentage of non-singletons in the largest component.\n",
    "subgraph.number_of_nodes() / count"
   ]
  },
  {
   "cell_type": "markdown",
   "metadata": {},
   "source": [
    "# Centrality"
   ]
  },
  {
   "cell_type": "code",
   "execution_count": 11,
   "metadata": {},
   "outputs": [],
   "source": [
    "def top_k(scores, k=None):\n",
    "    \"\"\"Return the top k values from a dict of node or edge scores.\"\"\"\n",
    "    keys, values = zip(*scores.items())\n",
    "    keys = np.asarray(keys)\n",
    "    values = np.asarray(values)\n",
    "    # Assign ranks.\n",
    "    ranks = scipy.stats.rankdata(-1 * values, method='min')\n",
    "    sort = np.argsort(ranks)\n",
    "    if not k:\n",
    "        k = len(sort)\n",
    "    rval = {}\n",
    "    for i in range(k):\n",
    "        rval[keys[sort][i]] = (values[sort][i], ranks[sort][i])\n",
    "    return rval"
   ]
  },
  {
   "cell_type": "code",
   "execution_count": 12,
   "metadata": {},
   "outputs": [
    {
     "name": "stdout",
     "output_type": "stream",
     "text": [
      "D&C 1:38 (0.0018015613531727496, 1) (0.0005748630666542338, 1)\n",
      "D&C 17:1 (0.0018015613531727496, 1) (0.00046049633222370966, 8)\n",
      "Hel. 12:3 (0.0016681123640488423, 3) (0.0005195793987902319, 4)\n",
      "1 Ne. 17:35 (0.0016681123640488423, 3) (0.0005628340031874453, 2)\n",
      "D&C 1:14 (0.0016013878694868886, 5) (0.0004719735306604832, 7)\n",
      "Moses 6:57 (0.001534663374924935, 6) (0.00045451159019674814, 10)\n",
      "1 Ne. 19:10 (0.001534663374924935, 6) (0.00034477547201844274, 27)\n",
      "2 Ne. 25:20 (0.001534663374924935, 6) (0.00037638357597394534, 18)\n",
      "D&C 88:63 (0.0014012143858010276, 9) (0.0004602586546935263, 9)\n",
      "D&C 1:16 (0.0014012143858010276, 9) (0.00037845860172870265, 17)\n",
      "D&C 1:38 (0.0018015613531727496, 1) (0.0005748630666542338, 1)\n",
      "1 Ne. 17:35 (0.0016681123640488423, 3) (0.0005628340031874453, 2)\n",
      "Mosiah 4:26 (0.0011343164075532128, 22) (0.0005542445180812482, 3)\n",
      "Hel. 12:3 (0.0016681123640488423, 3) (0.0005195793987902319, 4)\n",
      "2 Ne. 9:37 (0.0008006939347434443, 110) (0.0004848246946225575, 5)\n",
      "2 Ne. 9:28 (0.0013344898912390738, 11) (0.0004786704921718688, 6)\n",
      "D&C 1:14 (0.0016013878694868886, 5) (0.0004719735306604832, 7)\n",
      "D&C 17:1 (0.0018015613531727496, 1) (0.00046049633222370966, 8)\n",
      "D&C 88:63 (0.0014012143858010276, 9) (0.0004602586546935263, 9)\n",
      "Moses 6:57 (0.001534663374924935, 6) (0.00045451159019674814, 10)\n"
     ]
    }
   ],
   "source": [
    "# Find ranks of the unique verses.\n",
    "# NOTE: We are using the main subgraph here, not the full grah.\n",
    "degree_ranks = top_k(nx.in_degree_centrality(subgraph))\n",
    "page_ranks = top_k(nx.pagerank(subgraph))\n",
    "\n",
    "k = 10\n",
    "for degree_key in list(degree_ranks.keys())[:k]:\n",
    "    print(degree_key, degree_ranks[degree_key], page_ranks[degree_key])\n",
    "for page_key in list(page_ranks.keys())[:k]:\n",
    "    print(page_key, degree_ranks[page_key], page_ranks[page_key])"
   ]
  },
  {
   "cell_type": "code",
   "execution_count": 13,
   "metadata": {},
   "outputs": [
    {
     "data": {
      "text/html": [
       "<div>\n",
       "<style scoped>\n",
       "    .dataframe tbody tr th:only-of-type {\n",
       "        vertical-align: middle;\n",
       "    }\n",
       "\n",
       "    .dataframe tbody tr th {\n",
       "        vertical-align: top;\n",
       "    }\n",
       "\n",
       "    .dataframe thead th {\n",
       "        text-align: right;\n",
       "    }\n",
       "</style>\n",
       "<table border=\"1\" class=\"dataframe\">\n",
       "  <thead>\n",
       "    <tr style=\"text-align: right;\">\n",
       "      <th></th>\n",
       "      <th>verse</th>\n",
       "      <th>degree</th>\n",
       "      <th>degree_rank</th>\n",
       "      <th>degree_count</th>\n",
       "      <th>pagerank</th>\n",
       "      <th>pagerank_rank</th>\n",
       "    </tr>\n",
       "  </thead>\n",
       "  <tbody>\n",
       "    <tr>\n",
       "      <th>0</th>\n",
       "      <td>D&amp;C 1:38</td>\n",
       "      <td>0.001802</td>\n",
       "      <td>1</td>\n",
       "      <td>27</td>\n",
       "      <td>0.000575</td>\n",
       "      <td>1</td>\n",
       "    </tr>\n",
       "    <tr>\n",
       "      <th>1</th>\n",
       "      <td>D&amp;C 17:1</td>\n",
       "      <td>0.001802</td>\n",
       "      <td>1</td>\n",
       "      <td>27</td>\n",
       "      <td>0.000460</td>\n",
       "      <td>8</td>\n",
       "    </tr>\n",
       "    <tr>\n",
       "      <th>2</th>\n",
       "      <td>Hel. 12:3</td>\n",
       "      <td>0.001668</td>\n",
       "      <td>3</td>\n",
       "      <td>25</td>\n",
       "      <td>0.000520</td>\n",
       "      <td>4</td>\n",
       "    </tr>\n",
       "    <tr>\n",
       "      <th>3</th>\n",
       "      <td>1 Ne. 17:35</td>\n",
       "      <td>0.001668</td>\n",
       "      <td>3</td>\n",
       "      <td>25</td>\n",
       "      <td>0.000563</td>\n",
       "      <td>2</td>\n",
       "    </tr>\n",
       "    <tr>\n",
       "      <th>4</th>\n",
       "      <td>D&amp;C 1:14</td>\n",
       "      <td>0.001601</td>\n",
       "      <td>5</td>\n",
       "      <td>24</td>\n",
       "      <td>0.000472</td>\n",
       "      <td>7</td>\n",
       "    </tr>\n",
       "  </tbody>\n",
       "</table>\n",
       "</div>"
      ],
      "text/plain": [
       "         verse    degree  degree_rank  degree_count  pagerank  pagerank_rank\n",
       "0     D&C 1:38  0.001802            1            27  0.000575              1\n",
       "1     D&C 17:1  0.001802            1            27  0.000460              8\n",
       "2    Hel. 12:3  0.001668            3            25  0.000520              4\n",
       "3  1 Ne. 17:35  0.001668            3            25  0.000563              2\n",
       "4     D&C 1:14  0.001601            5            24  0.000472              7"
      ]
     },
     "execution_count": 13,
     "metadata": {},
     "output_type": "execute_result"
    }
   ],
   "source": [
    "# Plot correlation of degree and pagerank scores.\n",
    "rows = []\n",
    "for key, value in degree_ranks.items():\n",
    "    rows.append({\n",
    "        'verse': key, \n",
    "        'degree': value[0], \n",
    "        'degree_rank': value[1],\n",
    "        'degree_count': subgraph.in_degree(key),\n",
    "        'pagerank': page_ranks[key][0],\n",
    "        'pagerank_rank': page_ranks[key][1],\n",
    "    })\n",
    "df = pd.DataFrame(rows)\n",
    "df.head()"
   ]
  },
  {
   "cell_type": "code",
   "execution_count": 14,
   "metadata": {},
   "outputs": [
    {
     "data": {
      "text/plain": [
       "<seaborn.axisgrid.JointGrid at 0x7fe4cadaed90>"
      ]
     },
     "execution_count": 14,
     "metadata": {},
     "output_type": "execute_result"
    },
    {
     "data": {
      "image/png": "[encoded data removed]",
      "text/plain": [
       "<Figure size 432x432 with 3 Axes>"
      ]
     },
     "metadata": {
      "needs_background": "light"
     },
     "output_type": "display_data"
    }
   ],
   "source": [
    "sns.jointplot(x='degree', y='pagerank', data=df, kind='hex', mincnt=1, bins='log')"
   ]
  },
  {
   "cell_type": "code",
   "execution_count": 15,
   "metadata": {},
   "outputs": [
    {
     "data": {
      "text/plain": [
       "<seaborn.axisgrid.JointGrid at 0x7fe4cc728490>"
      ]
     },
     "execution_count": 15,
     "metadata": {},
     "output_type": "execute_result"
    },
    {
     "data": {
      "image/png": "[encoded data removed]",
      "text/plain": [
       "<Figure size 432x432 with 3 Axes>"
      ]
     },
     "metadata": {
      "needs_background": "light"
     },
     "output_type": "display_data"
    }
   ],
   "source": [
    "mask = (df.degree > 0)\n",
    "sns.jointplot(x='degree', y='pagerank', data=df[mask], kind='hex', mincnt=1, bins='log')"
   ]
  },
  {
   "cell_type": "code",
   "execution_count": 16,
   "metadata": {},
   "outputs": [
    {
     "name": "stdout",
     "output_type": "stream",
     "text": [
      "0.7274005302582119 0.7403013941677717\n"
     ]
    }
   ],
   "source": [
    "# Calculate the rank correlation; we don't necessarily expect/need the relationship to be linear (i.e. pearson)\n",
    "t, _ = scipy.stats.kendalltau(df.degree.values, df.pagerank.values)\n",
    "r, _ = scipy.stats.spearmanr(df.degree.values, df.pagerank.values)\n",
    "print(t, r**2)"
   ]
  },
  {
   "cell_type": "code",
   "execution_count": 17,
   "metadata": {},
   "outputs": [
    {
     "name": "stdout",
     "output_type": "stream",
     "text": [
      "0.6857751570237676 0.6867735847021844\n"
     ]
    }
   ],
   "source": [
    "# Now mask the zeros and repeat\n",
    "mask = (df.degree > 0)\n",
    "t, _ = scipy.stats.kendalltau(df[mask].degree.values, df[mask].pagerank.values)\n",
    "r, _ = scipy.stats.spearmanr(df[mask].degree.values, df[mask].pagerank.values)\n",
    "print(t, r**2)"
   ]
  },
  {
   "cell_type": "code",
   "execution_count": 18,
   "metadata": {},
   "outputs": [
    {
     "data": {
      "text/plain": [
       "12"
      ]
     },
     "execution_count": 18,
     "metadata": {},
     "output_type": "execute_result"
    }
   ],
   "source": [
    "subgraph.in_degree('2 Ne. 9:37')"
   ]
  },
  {
   "cell_type": "code",
   "execution_count": 19,
   "metadata": {},
   "outputs": [
    {
     "data": {
      "text/plain": [
       "20"
      ]
     },
     "execution_count": 19,
     "metadata": {},
     "output_type": "execute_result"
    }
   ],
   "source": [
    "subgraph.in_degree('2 Ne. 9:28')"
   ]
  },
  {
   "cell_type": "code",
   "execution_count": 20,
   "metadata": {},
   "outputs": [
    {
     "data": {
      "text/plain": [
       "(0.0004848246946225575, 5)"
      ]
     },
     "execution_count": 20,
     "metadata": {},
     "output_type": "execute_result"
    }
   ],
   "source": [
    "page_ranks['2 Ne. 9:37']"
   ]
  },
  {
   "cell_type": "code",
   "execution_count": 21,
   "metadata": {},
   "outputs": [
    {
     "data": {
      "text/plain": [
       "(0.0004786704921718688, 6)"
      ]
     },
     "execution_count": 21,
     "metadata": {},
     "output_type": "execute_result"
    }
   ],
   "source": [
    "page_ranks['2 Ne. 9:28']"
   ]
  },
  {
   "cell_type": "code",
   "execution_count": 22,
   "metadata": {},
   "outputs": [
    {
     "name": "stdout",
     "output_type": "stream",
     "text": [
      "0.0006024807288538965 7010.416666666667 5359.0\n"
     ]
    },
    {
     "data": {
      "text/plain": [
       "[('2 Chr. 25:15', (1.1344745861548866e-05, 14023), 1),\n",
       " ('Deut. 31:16', (9.636416205185578e-05, 3079), 6),\n",
       " ('Ex. 34:14', (5.3885086141520725e-05, 7511), 6),\n",
       " ('Ezek. 18:6', (9.501978701842491e-05, 3180), 4),\n",
       " ('Isa. 41:24', (0.0004381816393310352, 11), 1),\n",
       " ('Jer. 17:2', (1.1344745861548866e-05, 14023), 2),\n",
       " ('Judg. 2:17', (8.322911430310776e-05, 4137), 6),\n",
       " ('Lev. 19:4', (1.970949071057673e-05, 13589), 3),\n",
       " ('Ps. 16:4', (1.8968199793021285e-05, 13689), 5),\n",
       " ('Alma 31:1', (6.0665416203765906e-05, 6581), 4),\n",
       " ('Alma 7:6', (0.00012628225365870994, 1575), 3),\n",
       " ('Hel. 6:31', (0.00010194032856325827, 2727), 6)]"
      ]
     },
     "execution_count": 22,
     "metadata": {},
     "output_type": "execute_result"
    }
   ],
   "source": [
    "scores = []\n",
    "for source, _ in subgraph.in_edges('2 Ne. 9:37'):\n",
    "    scores.append((source, page_ranks[source], subgraph.out_degree(source)))\n",
    "ranks = [x[1][1] for x in scores]\n",
    "total = sum([x[1][0] / x[2] for x in scores])\n",
    "print(total, np.mean(ranks), np.median(ranks))\n",
    "scores"
   ]
  },
  {
   "cell_type": "code",
   "execution_count": 23,
   "metadata": {},
   "outputs": [
    {
     "name": "stdout",
     "output_type": "stream",
     "text": [
      "0.0005510264529943011 5391.65 3652.5\n"
     ]
    },
    {
     "data": {
      "text/plain": [
       "[('Eccl. 10:12', (9.531304292500204e-05, 3158), 4),\n",
       " ('Eccl. 4:5', (3.1668573985467875e-05, 11576), 1),\n",
       " ('Eccl. 8:17', (5.442964669452996e-05, 7442), 3),\n",
       " ('Ezek. 28:5', (9.057378262998846e-05, 3515), 2),\n",
       " ('Isa. 9:9', (3.1668573985467875e-05, 11576), 1),\n",
       " ('Jer. 8:8', (5.10286444838217e-05, 7917), 2),\n",
       " ('Job 11:12', (3.1668573985467875e-05, 11576), 1),\n",
       " ('Luke 16:15', (8.719728704259022e-05, 3790), 3),\n",
       " ('Prov. 14:6', (9.307918504346417e-05, 3312), 4),\n",
       " ('Prov. 15:22', (0.00010748452539004232, 2403), 5),\n",
       " ('Prov. 23:4', (3.1668573985467875e-05, 11576), 2),\n",
       " ('Rom. 1:22', (3.1668573985467875e-05, 11576), 1),\n",
       " ('2 Ne. 19:17', (0.0001835587971246327, 434), 9),\n",
       " ('2 Ne. 26:20', (0.00023951608726129983, 133), 17),\n",
       " ('2 Ne. 28:4', (7.32257191250988e-05, 5103), 3),\n",
       " ('Alma 28:13', (5.972372437040429e-05, 6704), 2),\n",
       " ('Alma 37:12', (0.00014117650290980898, 1121), 6),\n",
       " ('D&C 35:7', (0.00011525606126366559, 2022), 5),\n",
       " ('D&C 76:9', (0.00010341406251798867, 2641), 2),\n",
       " ('Jacob 4:10', (0.00020922010274211194, 258), 6)]"
      ]
     },
     "execution_count": 23,
     "metadata": {},
     "output_type": "execute_result"
    }
   ],
   "source": [
    "scores = []\n",
    "for source, _ in subgraph.in_edges('2 Ne. 9:28'):\n",
    "    scores.append((source, page_ranks[source], subgraph.out_degree(source)))\n",
    "ranks = [x[1][1] for x in scores]\n",
    "total = sum([x[1][0] / x[2] for x in scores])\n",
    "print(total, np.mean(ranks), np.median(ranks))\n",
    "scores"
   ]
  },
  {
   "cell_type": "code",
   "execution_count": 24,
   "metadata": {},
   "outputs": [
    {
     "name": "stdout",
     "output_type": "stream",
     "text": [
      "0.0024102813829650735 4679.791666666667 2452.0\n"
     ]
    },
    {
     "data": {
      "text/plain": [
       "[('Acts 3:23', (5.452543699578856e-05, 7424)),\n",
       " ('Ezek. 33:31', (0.0001926398763724483, 366)),\n",
       " ('Heb. 5:11', (0.00011910059930861778, 1848)),\n",
       " ('Isa. 40:10', (3.631019973922246e-05, 10504)),\n",
       " ('Lev. 7:20', (2.5568907382791473e-05, 12777)),\n",
       " ('Matt. 11:15', (8.927591213855856e-05, 3604)),\n",
       " ('Ps. 37:2', (4.3125654049010235e-05, 9183)),\n",
       " ('Ps. 78:1', (3.871597977423073e-05, 9994)),\n",
       " ('Zech. 14:1', (3.631019973922246e-05, 10504)),\n",
       " ('2 Ne. 9:31', (0.00014926233773620876, 944)),\n",
       " ('3 Ne. 21:11', (0.00011756221225645653, 1909)),\n",
       " ('Alma 50:20', (0.00018742352888034356, 405)),\n",
       " ('D&C 11:2', (0.00011405634567291376, 2078)),\n",
       " ('D&C 133:63', (0.0001254194723717289, 1612)),\n",
       " ('D&C 35:14', (0.0001739577843384902, 554)),\n",
       " ('D&C 45:47', (5.0969663498596335e-05, 7929)),\n",
       " ('D&C 5:5', (8.341900664404244e-05, 4121)),\n",
       " ('D&C 50:8', (0.0001395384049846641, 1157)),\n",
       " ('D&C 56:1', (0.00015006325553461964, 932)),\n",
       " ('D&C 56:3', (0.00010643937063859417, 2461)),\n",
       " ('D&C 84:43', (0.00010675920347990591, 2443)),\n",
       " ('D&C 84:96', (1.1344745861548866e-05, 14023)),\n",
       " ('Moses 6:27', (0.00018544052435449167, 422)),\n",
       " ('Mosiah 26:28', (7.305276121257816e-05, 5121))]"
      ]
     },
     "execution_count": 24,
     "metadata": {},
     "output_type": "execute_result"
    }
   ],
   "source": [
    "scores = []\n",
    "for source, _ in subgraph.in_edges('D&C 1:14'):\n",
    "    scores.append((source, page_ranks[source]))\n",
    "ranks = [x[1][1] for x in scores]\n",
    "total = sum([x[1][0] for x in scores])\n",
    "print(total, np.mean(ranks), np.median(ranks))\n",
    "scores"
   ]
  },
  {
   "cell_type": "code",
   "execution_count": 25,
   "metadata": {},
   "outputs": [
    {
     "data": {
      "text/plain": [
       "[('2 Ne. 9:37', (0.0004848246946225575, 5))]"
      ]
     },
     "execution_count": 25,
     "metadata": {},
     "output_type": "execute_result"
    }
   ],
   "source": [
    "scores = []\n",
    "for source, _ in subgraph.in_edges('Isa. 41:24'):\n",
    "    scores.append((source, page_ranks[source]))\n",
    "scores"
   ]
  },
  {
   "cell_type": "code",
   "execution_count": 26,
   "metadata": {},
   "outputs": [],
   "source": [
    "h, a = nx.hits(subgraph, max_iter=1000)"
   ]
  },
  {
   "cell_type": "code",
   "execution_count": 27,
   "metadata": {},
   "outputs": [
    {
     "data": {
      "text/plain": [
       "{'1 Ne. 19:10': (0.03633192685025401, 1),\n",
       " '2 Ne. 26:12': (0.015241870768637639, 2),\n",
       " 'Mosiah 7:19': (0.010363241346591376, 3),\n",
       " 'D&C 8:3': (0.009781607552616412, 4),\n",
       " '2 Ne. 19:6': (0.009092133278631606, 5),\n",
       " '1 Ne. 17:26': (0.008457930180434961, 6),\n",
       " 'Ex. 3:10': (0.008108399462781515, 7),\n",
       " 'Moro. 7:22': (0.008099761933502562, 8),\n",
       " '2 Ne. 10:3': (0.0077593352741091755, 9),\n",
       " '2 Ne. 25:20': (0.007706273590193639, 10)}"
      ]
     },
     "execution_count": 27,
     "metadata": {},
     "output_type": "execute_result"
    }
   ],
   "source": [
    "top_k(h, k=10)"
   ]
  },
  {
   "cell_type": "code",
   "execution_count": 28,
   "metadata": {},
   "outputs": [
    {
     "data": {
      "text/plain": [
       "{'Mosiah 7:19': (0.0187022213225421, 1),\n",
       " '1 Ne. 19:10': (0.015088984167827531, 2),\n",
       " '2 Ne. 25:20': (0.01499627925400315, 3),\n",
       " 'Mosiah 7:27': (0.014095754557120537, 4),\n",
       " '2 Ne. 26:12': (0.01207913405335545, 5),\n",
       " '2 Ne. 10:3': (0.011668247829258835, 6),\n",
       " 'Alma 11:39': (0.011660916466274901, 7),\n",
       " '3 Ne. 11:14': (0.010627464675530765, 8),\n",
       " 'Ex. 3:10': (0.009821750697632099, 9),\n",
       " 'Mosiah 27:31': (0.009044942957258894, 10)}"
      ]
     },
     "execution_count": 28,
     "metadata": {},
     "output_type": "execute_result"
    }
   ],
   "source": [
    "top_k(a, k=10)"
   ]
  },
  {
   "cell_type": "code",
   "execution_count": null,
   "metadata": {},
   "outputs": [],
   "source": []
  }
 ],
 "metadata": {
  "kernelspec": {
   "display_name": "Python 3",
   "language": "python",
   "name": "python3"
  },
  "language_info": {
   "codemirror_mode": {
    "name": "ipython",
    "version": 3
   },
   "file_extension": ".py",
   "mimetype": "text/x-python",
   "name": "python",
   "nbconvert_exporter": "python",
   "pygments_lexer": "ipython3",
   "version": "3.8.5"
  }
 },
 "nbformat": 4,
 "nbformat_minor": 4
}
